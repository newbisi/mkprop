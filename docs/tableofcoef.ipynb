{
 "cells": [
  {
   "cell_type": "code",
   "execution_count": 2,
   "id": "a0545c70-067c-4c89-83dc-98a74e72e211",
   "metadata": {},
   "outputs": [],
   "source": [
    "import numpy as np"
   ]
  },
  {
   "cell_type": "markdown",
   "id": "a5db706f-686d-4963-8c4f-6bb9c1cce0c9",
   "metadata": {},
   "source": [
    "# order 2, midpoint rule"
   ]
  },
  {
   "cell_type": "code",
   "execution_count": 3,
   "id": "ac25106b-f5af-4782-b145-8e916b123b24",
   "metadata": {},
   "outputs": [
    {
     "name": "stdout",
     "output_type": "stream",
     "text": [
      "matrix of coefficients:\n",
      "[1]\n",
      "no negative substeps\n",
      "[1]\n",
      "with 1 exponentials, need to propagate over a total time step t=1.00\n"
     ]
    }
   ],
   "source": [
    "cmat = [0.5]\n",
    "amat=[[1]]\n",
    "parth1 = [0.5]\n",
    "parth2 = [0.5]\n",
    "\n",
    "jexps=len(amat)\n",
    "print(\"matrix of coefficients:\")\n",
    "for j in range(jexps):\n",
    "    print(amat[j])\n",
    "asums=[sum(a) for a in amat]\n",
    "if sum(np.array(asums)<0)==0:\n",
    "    print(\"no negative substeps\")\n",
    "else:\n",
    "    print(\"has negative substeps\")\n",
    "print(asums)\n",
    "print(\"with %d exponentials, need to propagate over a total time step t=%.2f\"%(jexps,sum([abs(sum(a)) for a in amat])))"
   ]
  },
  {
   "cell_type": "markdown",
   "id": "cd411d91-425c-44b1-8a1e-fb7c62f55ff4",
   "metadata": {},
   "source": [
    "# order 4 CFM"
   ]
  },
  {
   "cell_type": "markdown",
   "id": "a7701d8b-65c7-4a2d-b6a7-eddfa52de8b0",
   "metadata": {},
   "source": [
    "## standard order 4 with two exponentials"
   ]
  },
  {
   "cell_type": "code",
   "execution_count": 58,
   "id": "16e02452-10ea-48dc-af78-905a617a3389",
   "metadata": {},
   "outputs": [
    {
     "name": "stdout",
     "output_type": "stream",
     "text": [
      "matrix of coefficients:\n",
      "[0.5386751345948129, -0.038675134594812866]\n",
      "[-0.038675134594812866, 0.5386751345948129]\n",
      "no negative substeps\n",
      "[0.5, 0.5]\n",
      "with 2 exponentials, need to propagate over a total time step t=1.00\n",
      "scalings for symmetrized defect\n",
      "[1, 0]\n",
      "[0, 1]\n",
      "for the constant caes, H(t)=Hconst:\n",
      "-0.5*H(0) + 1.00e+00*B1 = 0.00e+00\n",
      "0.00e+00*B1 + 0.00e+00*B2 = 0.00e+00\n",
      "-0.5*H(1) + 1.00e+00 *B2 = 0.00e+00\n"
     ]
    }
   ],
   "source": [
    "c = 3**0.5/6\n",
    "cmat = [0.5-c, 0.5+c]\n",
    "amat=[[0.25+c,0.25-c],[0.25-c,0.25+c]]\n",
    "parth1 = [1,0]\n",
    "parth2 = [0,1]\n",
    "\n",
    "jexps=len(amat)\n",
    "print(\"matrix of coefficients:\")\n",
    "for j in range(jexps):\n",
    "    print(amat[j])\n",
    "asums=[sum(a) for a in amat]\n",
    "if sum(np.array(asums)<0)==0:\n",
    "    print(\"no negative substeps\")\n",
    "else:\n",
    "    print(\"has negative substeps\")\n",
    "print(asums)\n",
    "print(\"with %d exponentials, need to propagate over a total time step t=%.2f\"%(jexps,sum([abs(sum(a)) for a in amat])))\n",
    "print(\"scalings for symmetrized defect\")\n",
    "print(parth1)\n",
    "print(parth2)\n",
    "print(\"for the constant caes, H(t)=Hconst:\")\n",
    "print(\"-0.5*H(0) + %.2e*B%d = %.2e\" % (parth1[0],1,-0.5+sum(amat[0])*parth1[0]) )\n",
    "for j in range(jexps-1):\n",
    "    print(\"%.2e*B%d + %.2e*B%d = %.2e\" % (parth2[j],j+1,parth1[j+1],j+2,\n",
    "                                              sum(amat[j])*parth2[j]+sum(amat[j+1])*parth1[j+1]))\n",
    "print(\"-0.5*H(1) + %.2e *B%d = %.2e\" % (parth2[jexps-1],jexps,-0.5+sum(amat[jexps-1])*parth2[jexps-1]) )"
   ]
  },
  {
   "cell_type": "markdown",
   "id": "c72dd772-ef71-4749-bddd-f19ca230b6b8",
   "metadata": {},
   "source": [
    "## improved CFM order 4 with three exponentials\n",
    "from Alverman and Fehske"
   ]
  },
  {
   "cell_type": "code",
   "execution_count": 57,
   "id": "0ba90917-7794-42af-935a-8fd2f26d09b9",
   "metadata": {},
   "outputs": [
    {
     "name": "stdout",
     "output_type": "stream",
     "text": [
      "matrix of coefficients:\n",
      "[0.3025568331880236, -0.03333333333333333, 0.0057765001453097264]\n",
      "[-0.030555555555555555, 0.5111111111111111, -0.030555555555555555]\n",
      "[0.0057765001453097264, -0.03333333333333333, 0.3025568331880236]\n",
      "no negative substeps\n",
      "[0.275, 0.44999999999999996, 0.275]\n",
      "with 3 exponentials, need to propagate over a total time step t=1.00\n",
      "scalings for symmetrized defect\n",
      "[1.8181818181818181, 0.5, -0.8181818181818181]\n",
      "[-0.8181818181818181, 0.5, 1.8181818181818181]\n",
      "for the constant caes, H(t)=Hconst:\n",
      "-0.5*H(0) + 1.82e+00*B1 = 0.00e+00\n",
      "-8.18e-01*B1 + 5.00e-01*B2 = -2.78e-17\n",
      "5.00e-01*B2 + -8.18e-01*B3 = -2.78e-17\n",
      "-0.5*H(1) + 1.82e+00 *B3 = 0.00e+00\n"
     ]
    }
   ],
   "source": [
    "c = 15**0.5\n",
    "cmat = [0.5-c/10, 0.5, 0.5+c/10]\n",
    "a1 = [37.0/240 + 10*c/3/87, -1.0/30, 37.0/240 - 10*c/3/87]\n",
    "a2 = [-11.0/360, 23.0/45, -11.0/360]\n",
    "amat = [a1, a2, a1[::-1]]\n",
    "sa=0.5/sum(amat[0])\n",
    "parth1 = [sa, 0.5, 1-sa]\n",
    "parth2 = [1-sa, 0.5, sa]\n",
    "\n",
    "jexps=len(amat)\n",
    "print(\"matrix of coefficients:\")\n",
    "for j in range(jexps):\n",
    "    print(amat[j])\n",
    "asums=[sum(a) for a in amat]\n",
    "if sum(np.array(asums)<0)==0:\n",
    "    print(\"no negative substeps\")\n",
    "else:\n",
    "    print(\"has negative substeps\")\n",
    "print(asums)\n",
    "print(\"with %d exponentials, need to propagate over a total time step t=%.2f\"%(jexps,sum([abs(sum(a)) for a in amat])))\n",
    "print(\"scalings for symmetrized defect\")\n",
    "print(parth1)\n",
    "print(parth2)\n",
    "print(\"for the constant caes, H(t)=Hconst:\")\n",
    "print(\"-0.5*H(0) + %.2e*B%d = %.2e\" % (parth1[0],1,-0.5+sum(amat[0])*parth1[0]) )\n",
    "for j in range(jexps-1):\n",
    "    print(\"%.2e*B%d + %.2e*B%d = %.2e\" % (parth2[j],j+1,parth1[j+1],j+2,\n",
    "                                              sum(amat[j])*parth2[j]+sum(amat[j+1])*parth1[j+1]))\n",
    "print(\"-0.5*H(1) + %.2e *B%d = %.2e\" % (parth2[jexps-1],jexps,-0.5+sum(amat[jexps-1])*parth2[jexps-1]) )"
   ]
  },
  {
   "cell_type": "code",
   "execution_count": 24,
   "id": "644cf863-53e5-44c0-9a20-b899c0dc6e2a",
   "metadata": {},
   "outputs": [
    {
     "name": "stdout",
     "output_type": "stream",
     "text": [
      "0.0\n",
      "-2.7755575615628914e-17\n",
      "-2.7755575615628914e-17\n",
      "0.0\n"
     ]
    }
   ],
   "source": []
  },
  {
   "cell_type": "markdown",
   "id": "146828ec-612b-4cfb-8792-ad7e2b143f83",
   "metadata": {},
   "source": [
    "## similar method\n",
    "from Auzinger et al."
   ]
  },
  {
   "cell_type": "code",
   "execution_count": 56,
   "id": "9f282512-3a76-4541-8485-478884a67890",
   "metadata": {},
   "outputs": [
    {
     "name": "stdout",
     "output_type": "stream",
     "text": [
      "matrix of coefficients:\n",
      "[0.30214684230861694, -0.030742768872036395, 0.0048516034074986844]\n",
      "[-0.02922066793833786, 0.5059299821885173, -0.02922066793833786]\n",
      "[0.0048516034074986844, -0.030742768872036395, 0.30214684230861694]\n",
      "no negative substeps\n",
      "[0.2762556768440792, 0.4474886463118415, 0.2762556768440792]\n",
      "with 3 exponentials, need to propagate over a total time step t=1.00\n",
      "scalings for symmetrized defect\n",
      "[1.8099175579374747, 0.5, -0.8099175579374747]\n",
      "[-0.8099175579374747, 0.5, 1.8099175579374747]\n",
      "for the constant caes, H(t)=Hconst:\n",
      "-0.5*H(0) + 1.81e+00*B1 = 0.00e+00\n",
      "-8.10e-01*B1 + 5.00e-01*B2 = -5.55e-17\n",
      "5.00e-01*B2 + -8.10e-01*B3 = -5.55e-17\n",
      "-0.5*H(1) + 1.81e+00 *B3 = 0.00e+00\n"
     ]
    }
   ],
   "source": [
    "c = 15**0.5\n",
    "cmat = [0.5-c/10, 0.5, 0.5+c/10]\n",
    "a1 = [0.302146842308616954258187683416,\n",
    "      -0.030742768872036394116279742324,\n",
    "      0.004851603407498684079562131338]\n",
    "a2 = [-0.029220667938337860559972036973,\n",
    "      0.505929982188517232677003929089,\n",
    "      -0.029220667938337860559972036973]\n",
    "amat = [a1, a2, a1[::-1]]\n",
    "sa=0.5/sum(amat[0])\n",
    "parth1 = [sa, 0.5, 1-sa]\n",
    "parth2 = [1-sa, 0.5, sa]\n",
    "\n",
    "jexps=len(amat)\n",
    "print(\"matrix of coefficients:\")\n",
    "for j in range(jexps):\n",
    "    print(amat[j])\n",
    "asums=[sum(a) for a in amat]\n",
    "if sum(np.array(asums)<0)==0:\n",
    "    print(\"no negative substeps\")\n",
    "else:\n",
    "    print(\"has negative substeps\")\n",
    "print(asums)\n",
    "print(\"with %d exponentials, need to propagate over a total time step t=%.2f\"%(jexps,sum([abs(sum(a)) for a in amat])))\n",
    "print(\"scalings for symmetrized defect\")\n",
    "print(parth1)\n",
    "print(parth2)\n",
    "print(\"for the constant caes, H(t)=Hconst:\")\n",
    "print(\"-0.5*H(0) + %.2e*B%d = %.2e\" % (parth1[0],1,-0.5+sum(amat[0])*parth1[0]) )\n",
    "for j in range(jexps-1):\n",
    "    print(\"%.2e*B%d + %.2e*B%d = %.2e\" % (parth2[j],j+1,parth1[j+1],j+2,\n",
    "                                              sum(amat[j])*parth2[j]+sum(amat[j+1])*parth1[j+1]))\n",
    "print(\"-0.5*H(1) + %.2e *B%d = %.2e\" % (parth2[jexps-1],jexps,-0.5+sum(amat[jexps-1])*parth2[jexps-1]) )"
   ]
  },
  {
   "cell_type": "markdown",
   "id": "a5f985b3-1e91-4cd1-8c4f-e6de03d8c2c6",
   "metadata": {},
   "source": [
    "## special case, $H(t) = H_0 + V(t)$ with diagonal $V(t)$\n",
    "from Bader, Blanes and Kopylov"
   ]
  },
  {
   "cell_type": "code",
   "execution_count": 55,
   "id": "88786b56-cd8b-4144-abd5-e96a96e1d6b7",
   "metadata": {},
   "outputs": [
    {
     "name": "stdout",
     "output_type": "stream",
     "text": [
      "matrix of coefficients:\n",
      "[0.0770721297011523, -0.1111111111111111, 0.03403898140995879]\n",
      "[0.2554659264981074, 0.3333333333333333, -0.08879925983144075]\n",
      "[-0.08879925983144075, 0.3333333333333333, 0.2554659264981074]\n",
      "[0.03403898140995879, -0.1111111111111111, 0.0770721297011523]\n",
      "has negative substeps\n",
      "[-6.938893903907228e-18, 0.4999999999999999, 0.49999999999999994, -1.3877787807814457e-17]\n",
      "with 4 exponentials, need to propagate over a total time step t=1.00\n",
      "scalings for symmetrized defect\n",
      "[1, 1, 0, 0]\n",
      "[0, 0, 1, 1]\n",
      "for the constant caes, H(t)=Hconst:\n",
      "-0.5*H(0) + 1.00e+00*B1 = -5.00e-01\n",
      "0.00e+00*B1 + 1.00e+00*B2 = 5.00e-01\n",
      "0.00e+00*B2 + 0.00e+00*B3 = 0.00e+00\n",
      "1.00e+00*B3 + 0.00e+00*B4 = 5.00e-01\n",
      "-0.5*H(1) + 1.00e+00 *B4 = -5.00e-01\n"
     ]
    }
   ],
   "source": [
    "c = 15**0.5\n",
    "cmat = [0.5-c/10, 0.5, 0.5+c/10]\n",
    "a1 = [(10+c)/180, -1/9, (10-c)/180]\n",
    "a2 = [(15+8*c)/180,1/3,(15-8*c)/180]\n",
    "amat = [a1,a2,a2[::-1],a1[::-1]]\n",
    "parth1 = [1,1,0,0]\n",
    "parth2 = [0,0,1,1]\n",
    "\n",
    "jexps=len(amat)\n",
    "print(\"matrix of coefficients:\")\n",
    "for j in range(jexps):\n",
    "    print(amat[j])\n",
    "asums=[sum(a) for a in amat]\n",
    "if sum(np.array(asums)<0)==0:\n",
    "    print(\"no negative substeps\")\n",
    "else:\n",
    "    print(\"has negative substeps\")\n",
    "print(asums)\n",
    "print(\"with %d exponentials, need to propagate over a total time step t=%.2f\"%(jexps,sum([abs(sum(a)) for a in amat])))\n",
    "print(\"scalings for symmetrized defect\")\n",
    "print(parth1)\n",
    "print(parth2)\n",
    "print(\"for the constant caes, H(t)=Hconst:\")\n",
    "print(\"-0.5*H(0) + %.2e*B%d = %.2e\" % (parth1[0],1,-0.5+sum(amat[0])*parth1[0]) )\n",
    "for j in range(jexps-1):\n",
    "    print(\"%.2e*B%d + %.2e*B%d = %.2e\" % (parth2[j],j+1,parth1[j+1],j+2,\n",
    "                                              sum(amat[j])*parth2[j]+sum(amat[j+1])*parth1[j+1]))\n",
    "print(\"-0.5*H(1) + %.2e *B%d = %.2e\" % (parth2[jexps-1],jexps,-0.5+sum(amat[jexps-1])*parth2[jexps-1]) )"
   ]
  },
  {
   "cell_type": "markdown",
   "id": "b6d8d335-63b0-49b7-adc9-046c82010053",
   "metadata": {},
   "source": [
    "# order 6 CFM"
   ]
  },
  {
   "cell_type": "markdown",
   "id": "3046c167-ed6a-4370-86ef-7040615406e1",
   "metadata": {},
   "source": [
    "## order 6 with 4 exponentials"
   ]
  },
  {
   "cell_type": "code",
   "execution_count": 11,
   "id": "b0bc801c-1ad0-4bba-9148-389261d47687",
   "metadata": {},
   "outputs": [
    {
     "name": "stdout",
     "output_type": "stream",
     "text": [
      "matrix of coefficients:\n",
      "[0.7912422594288976, -0.08040075530555321, 0.012765293626634554]\n",
      "[-0.4893147516458326, 0.054170980027798805, -0.012069823881924156]\n",
      "[-0.029025638294289256, 0.5013845755277567, -0.025145341733509553]\n",
      "[0.00487590828900199, -0.030710355805557893, 0.30222764976657696]\n",
      "has negative substeps\n",
      "[0.7236067977499789, -0.447213595499958, 0.44721359549995787, 0.27639320225002106]\n"
     ]
    }
   ],
   "source": [
    "c=15**0.5\n",
    "cmat = [0.5-c/10, 0.5, 0.5+c/10]\n",
    "amat = [[0.79124225942889763, -0.080400755305553218, 0.012765293626634554],\n",
    "        [-0.48931475164583259, 0.054170980027798808,-0.012069823881924156],\n",
    "        [-0.029025638294289255, 0.50138457552775674,-0.025145341733509552],\n",
    "        [0.0048759082890019896,-0.030710355805557892,0.30222764976657693]]\n",
    "jexps=len(amat)\n",
    "print(\"matrix of coefficients:\")\n",
    "for j in range(jexps):\n",
    "    print(amat[j])\n",
    "asums=[sum(a) for a in amat]\n",
    "if sum(np.array(asums)<0)==0:\n",
    "    print(\"no negative substeps\")\n",
    "else:\n",
    "    print(\"has negative substeps\")\n",
    "print(asums)\n"
   ]
  },
  {
   "cell_type": "markdown",
   "id": "1403f24d-8110-4822-914f-f2a7f56201e4",
   "metadata": {},
   "source": [
    "## order 6 with 5 exponentials"
   ]
  },
  {
   "cell_type": "code",
   "execution_count": 54,
   "id": "94947982-f834-4353-910b-a4280689bed2",
   "metadata": {},
   "outputs": [
    {
     "name": "stdout",
     "output_type": "stream",
     "text": [
      "matrix of coefficients:\n",
      "[0.203952578716323, -0.059581898090478, 0.015629319374155]\n",
      "[0.133906069544898, 0.314511533222506, -0.060893550742092]\n",
      "[-0.014816639115506, -0.065414825819611, -0.014816639115506]\n",
      "[-0.060893550742092, 0.314511533222506, 0.133906069544898]\n",
      "[0.015629319374155, -0.059581898090478, 0.203952578716323]\n",
      "has negative substeps\n",
      "[0.15999999999999998, 0.38752405202531204, -0.095048104050623, 0.38752405202531204, 0.16]\n",
      "with 5 exponentials, need to propagate over a total time step t=1.19\n",
      "with 5 exponentials, need to propagate over a total time step t=1.19\n",
      "scalings for symmetrized defect\n",
      "[3.1250000000000004, 0.8773648970252617, 0.5, 0.12263510297473834, -2.1250000000000004]\n",
      "[-2.1250000000000004, 0.12263510297473834, 0.5, 0.8773648970252617, 3.1250000000000004]\n",
      "for the constant caes, H(t)=Hconst:\n",
      "-0.5*H(0) + 3.13e+00*B1 = 0.00e+00\n",
      "-2.13e+00*B1 + 8.77e-01*B2 = 0.00e+00\n",
      "1.23e-01*B2 + 5.00e-01*B3 = 5.00e-16\n",
      "5.00e-01*B3 + 1.23e-01*B4 = 5.00e-16\n",
      "8.77e-01*B4 + -2.13e+00*B5 = -5.55e-17\n",
      "-0.5*H(1) + 3.13e+00 *B5 = 1.11e-16\n"
     ]
    }
   ],
   "source": [
    "c=15**0.5\n",
    "cmat = [0.5-c/10, 0.5, 0.5+c/10]\n",
    "a1 = [0.203952578716323,-0.059581898090478,0.015629319374155]\n",
    "a2 = [0.133906069544898,0.314511533222506,-0.060893550742092]\n",
    "a3 = [-0.014816639115506,-0.065414825819611,-0.014816639115506]\n",
    "amat = [a1,a2,a3,a2[::-1],a1[::-1]]\n",
    "\n",
    "jexps=len(amat)\n",
    "print(\"matrix of coefficients:\")\n",
    "for j in range(jexps):\n",
    "    print(amat[j])\n",
    "asums=[sum(a) for a in amat]\n",
    "if sum(np.array(asums)<0)==0:\n",
    "    print(\"no negative substeps\")\n",
    "else:\n",
    "    print(\"has negative substeps\")\n",
    "print(asums)\n",
    "print(\"with %d exponentials, need to propagate over a total time step t=%.2f\"%(jexps,sum([abs(sum(a)) for a in amat])))\n",
    "sa0=0.5/sum(amat[0])\n",
    "sa1=(1-sa0)*sum(amat[0])/sum(amat[1])\n",
    "parth1 = [sa0, -sa1, 0.5, 1+sa1, 1-sa0]\n",
    "parth2 = [1-sa0, 1+sa1, 0.5, -sa1, sa0]\n",
    "print(\"with %d exponentials, need to propagate over a total time step t=%.2f\"%(jexps,sum([abs(sum(a)) for a in amat])))\n",
    "print(\"scalings for symmetrized defect\")\n",
    "print(parth1)\n",
    "print(parth2)\n",
    "print(\"for the constant caes, H(t)=Hconst:\")\n",
    "print(\"-0.5*H(0) + %.2e*B%d = %.2e\" % (parth1[0],1,-0.5+sum(amat[0])*parth1[0]) )\n",
    "for j in range(jexps-1):\n",
    "    print(\"%.2e*B%d + %.2e*B%d = %.2e\" % (parth2[j],j+1,parth1[j+1],j+2,\n",
    "                                              sum(amat[j])*parth2[j]+sum(amat[j+1])*parth1[j+1]))\n",
    "print(\"-0.5*H(1) + %.2e *B%d = %.2e\" % (parth2[jexps-1],jexps,-0.5+sum(amat[jexps-1])*parth2[jexps-1]) )\n"
   ]
  },
  {
   "cell_type": "markdown",
   "id": "c340762d-7fbd-4824-a8df-cc6817347a9a",
   "metadata": {},
   "source": [
    "## order 6 with 6 exponentials\n",
    "from Alverman and Fehske"
   ]
  },
  {
   "cell_type": "code",
   "execution_count": 9,
   "id": "c259e01f-564f-4040-aa94-c5bdb1000c19",
   "metadata": {},
   "outputs": [
    {
     "name": "stdout",
     "output_type": "stream",
     "text": [
      "matrix of coefficients:\n",
      "[0.2158389969757678, -0.0767179645915514, 0.0208789676157837]\n",
      "[-0.080897796320853, -0.1787472175371576, 0.0322633664310473]\n",
      "[0.1806284600558301, 0.4776874043509313, -0.0909342169797981]\n",
      "[-0.0909342169797981, 0.4776874043509313, 0.1806284600558301]\n",
      "[0.0322633664310473, -0.1787472175371576, -0.080897796320853]\n",
      "[0.0208789676157837, -0.0767179645915514, 0.2158389969757678]\n",
      "has negative substeps\n",
      "[0.16000000000000011, -0.22738164742696335, 0.5673816474269634, 0.5673816474269633, -0.22738164742696332, 0.1600000000000001]\n",
      "with 6 exponentials, need to propagate over a total time step t=1.91\n"
     ]
    }
   ],
   "source": [
    "c=15**0.5\n",
    "cmat = [0.5-c/10, 0.5, 0.5+c/10]\n",
    "\n",
    "a1 = [0.2158389969757678,-0.0767179645915514,0.0208789676157837]\n",
    "a2 = [-0.0808977963208530,-0.1787472175371576,0.0322633664310473]\n",
    "a3 = [0.1806284600558301,0.4776874043509313,-0.0909342169797981]\n",
    "amat = [a1,a2,a3,a3[::-1],a2[::-1],a1[::-1]]\n",
    "\n",
    "jexps=len(amat)\n",
    "print(\"matrix of coefficients:\")\n",
    "for j in range(jexps):\n",
    "    print(amat[j])\n",
    "asums=[sum(a) for a in amat]\n",
    "if sum(np.array(asums)<0)==0:\n",
    "    print(\"no negative substeps\")\n",
    "else:\n",
    "    print(\"has negative substeps\")\n",
    "print(asums)\n",
    "print(\"with %d exponentials, need to propagate over a total time step t=%.2f\"%(jexps,sum([abs(sum(a)) for a in amat])))"
   ]
  },
  {
   "cell_type": "code",
   "execution_count": null,
   "id": "2cb14ca9-74a4-499a-ac76-f06805435b74",
   "metadata": {},
   "outputs": [],
   "source": []
  },
  {
   "cell_type": "code",
   "execution_count": null,
   "id": "b9c7658a-51e9-465f-b4c6-f073498e4c34",
   "metadata": {},
   "outputs": [],
   "source": []
  },
  {
   "cell_type": "code",
   "execution_count": null,
   "id": "cc648e59-3452-4249-b5c4-28af12586c63",
   "metadata": {},
   "outputs": [],
   "source": []
  }
 ],
 "metadata": {
  "kernelspec": {
   "display_name": "Python 3 (ipykernel)",
   "language": "python",
   "name": "python3"
  },
  "language_info": {
   "codemirror_mode": {
    "name": "ipython",
    "version": 3
   },
   "file_extension": ".py",
   "mimetype": "text/x-python",
   "name": "python",
   "nbconvert_exporter": "python",
   "pygments_lexer": "ipython3",
   "version": "3.9.13"
  }
 },
 "nbformat": 4,
 "nbformat_minor": 5
}
