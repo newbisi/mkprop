{
 "cells": [
  {
   "cell_type": "code",
   "execution_count": 1,
   "id": "close-evolution",
   "metadata": {},
   "outputs": [],
   "source": [
    "import scipy.sparse\n",
    "import scipy.linalg\n",
    "import numpy as np\n",
    "import mkprop\n",
    "from exlaser import doublewellproblem as prob\n",
    "nrm = lambda x : np.linalg.norm(x,2)\n",
    "inr = lambda x,y : np.vdot(x,y)\n",
    "\n",
    "n = 5000\n",
    "e = np.ones(n)\n",
    "e1 = np.ones(n-1)+1e-5*np.random.rand(n-1)\n",
    "\n",
    "M = scipy.sparse.diags([e1.conj(),-2*e,e1], [-1,0,1])\n",
    "u=np.random.rand(n)+1j*np.random.rand(n)\n",
    "u=u/nrm(u)\n",
    "tfin = 70\n",
    "#expM = scipy.linalg.expm(1j*tfin*M.toarray())\n",
    "#yref=expM.dot(u)\n",
    "yref = scipy.sparse.linalg.expm_multiply(1j*tfin*M,u)\n"
   ]
  },
  {
   "cell_type": "code",
   "execution_count": 2,
   "id": "mineral-diamond",
   "metadata": {},
   "outputs": [],
   "source": [
    "m=80\n",
    "tol=1e-5\n",
    "np.set_printoptions(linewidth=180)\n",
    "\n",
    "tout=tfin\n",
    "\n",
    "mv = lambda x : M.dot(x)\n"
   ]
  },
  {
   "cell_type": "code",
   "execution_count": null,
   "id": "covered-collapse",
   "metadata": {},
   "outputs": [],
   "source": []
  },
  {
   "cell_type": "code",
   "execution_count": 12,
   "id": "mobile-picnic",
   "metadata": {},
   "outputs": [],
   "source": [
    "y0, errest, tlist, mlist, _, ocheck, costlist,bestmlist = KrylovProp.expimv_pKry(M,u,t=tfin,m=m,tol=tol,\n",
    "                                                        ktype=2,reo=1,optsout=1)"
   ]
  },
  {
   "cell_type": "code",
   "execution_count": 13,
   "id": "appointed-paragraph",
   "metadata": {},
   "outputs": [
    {
     "name": "stdout",
     "output_type": "stream",
     "text": [
      "[(1.3322676295501878e-15+0j), (1.3322676295501878e-15+0j), (6.661338147750939e-16+0j)]\n",
      "[20, 20, 20]\n",
      "[1123999.473623126, 4601.859685438285, 808.1713506421611, 354.0093135816972, 221.59460142378256, 165.21276071059415, 135.69989709826282, 118.25440162441132, 107.2541332257846, 99.72062852028581, 94.56748114248104, 90.98351198853683, 88.34810124368379, 86.50702661675253, 85.18831926036027, 84.35376906844043, 83.83317242172498, 83.56084757292007, 83.47472235739814, 83.66118980941926, 83.92140519237496, 84.30868795012118, 84.78976056140891, 85.33736445915346, 86.01121100231923, 86.6654982010563, 87.44839768917224, 88.27365815435088, 89.11885321592514, 89.98152710697667, 90.92866605750959, 91.90035987926669, 92.88340276096517, 93.84843761788322, 94.93016637096237, 95.94269609030601, 97.02864342415329, 98.08027194149886, 99.21692890581069, 100.30389631294699, 101.41886885419791, 102.55170725737382, 103.71459580745687, 104.86581477773224, 106.05034718949285, 107.21315728772316, 108.39197978162613, 109.60468380687236, 110.7847852401766, 111.9720825486282, 113.19297821169937, 114.41256298282815, 115.61261435772772, 116.86298043196133, 118.07697375108297, 119.31867899027036, 120.54562565806332, 121.8309299517987, 123.07130412475206, 124.29471742094762, 125.55256331091962, 126.8157468214618, 128.07217132331647, 129.35290305723893, 130.6203707662344, 131.8727656110483, 133.1416696911422, 134.42946854069973, 135.70446791959495, 136.99046760774155, 138.25086951529747, 139.51636799856195, 140.81661565899034, 142.10500446578914, 143.39335119790817, 144.6862091905358, 145.9682923062331, 147.2739261509365, 148.56478519738315]\n"
     ]
    }
   ],
   "source": [
    "print(ocheck)\n",
    "print(bestmlist)\n",
    "print(costlist[0])"
   ]
  },
  {
   "cell_type": "code",
   "execution_count": 14,
   "id": "drawn-representation",
   "metadata": {},
   "outputs": [
    {
     "name": "stdout",
     "output_type": "stream",
     "text": [
      "1e-05 2.4380422300386236e-05\n",
      "1.1464943363404252e-07\n",
      "[80, 80, 43]\n",
      "[27.73200926813896, 27.73200926805211, 14.53598146380893]\n",
      "0.9999999999999983\n"
     ]
    }
   ],
   "source": [
    "print(tol,errest/tfin)\n",
    "print(nrm(yref-y0)/tfin)\n",
    "#print(nrm(yref-yref2))\n",
    "print(mlist)\n",
    "print(tlist)\n",
    "print(nrm(y0))"
   ]
  },
  {
   "cell_type": "code",
   "execution_count": 17,
   "id": "academic-copper",
   "metadata": {},
   "outputs": [
    {
     "ename": "AttributeError",
     "evalue": "module 'KrylovProp' has no attribute 'setupHam'",
     "output_type": "error",
     "traceback": [
      "\u001b[0;31m---------------------------------------------------------------------------\u001b[0m",
      "\u001b[0;31mAttributeError\u001b[0m                            Traceback (most recent call last)",
      "Cell \u001b[0;32mIn[17], line 11\u001b[0m\n\u001b[1;32m      9\u001b[0m nexps\u001b[38;5;241m=\u001b[39m\u001b[38;5;241m1\u001b[39m\n\u001b[1;32m     10\u001b[0m \u001b[38;5;28;01mwhile\u001b[39;00m (tnow\u001b[38;5;241m<\u001b[39mtend):\n\u001b[0;32m---> 11\u001b[0m     H, dH \u001b[38;5;241m=\u001b[39m \u001b[43mKrylovProp\u001b[49m\u001b[38;5;241;43m.\u001b[39;49m\u001b[43msetupHam\u001b[49m(t,tnext,\u001b[38;5;241m1\u001b[39m,\u001b[38;5;241m0.5\u001b[39m)\n\u001b[1;32m     12\u001b[0m     y1, errest, tlist, mlist \u001b[38;5;241m=\u001b[39m KrylovProp\u001b[38;5;241m.\u001b[39mexpimv_pKry(M,y0,t\u001b[38;5;241m=\u001b[39mdt,m\u001b[38;5;241m=\u001b[39mm,tol\u001b[38;5;241m=\u001b[39mtol,ktype\u001b[38;5;241m=\u001b[39m\u001b[38;5;241m2\u001b[39m,reo\u001b[38;5;241m=\u001b[39m\u001b[38;5;241m1\u001b[39m)\n\u001b[1;32m     14\u001b[0m     errst\u001b[38;5;241m=\u001b[39m\u001b[38;5;241m0\u001b[39m\n",
      "\u001b[0;31mAttributeError\u001b[0m: module 'KrylovProp' has no attribute 'setupHam'"
     ]
    }
   ],
   "source": [
    "y0=u\n",
    "amat=[1]\n",
    "cmat=[[1/2]]\n",
    "tinit = 0.1\n",
    "\n",
    "tend = tfin\n",
    "tnow = 0\n",
    "dt = min(tinit,tend-tnow)\n",
    "nexps=1\n",
    "while (tnow<tend):\n",
    "    H, dH = prob.setupHam(t,tnext,1,0.5)\n",
    "    y1, errest, tlist, mlist = mkprop.expimv_pKry(M,y0,t=dt,m=m,tol=tol,ktype=2,reo=1)\n",
    "\n",
    "    errst=0\n",
    "    if errest<dt*tol:\n",
    "        y0=y1\n",
    "        tnow += dt\n",
    "        "
   ]
  },
  {
   "cell_type": "code",
   "execution_count": 5,
   "id": "satisfactory-purple",
   "metadata": {},
   "outputs": [],
   "source": [
    "A=np.zeros([2,2])\n"
   ]
  },
  {
   "cell_type": "code",
   "execution_count": null,
   "id": "roman-campus",
   "metadata": {},
   "outputs": [],
   "source": []
  },
  {
   "cell_type": "code",
   "execution_count": 6,
   "id": "detected-salmon",
   "metadata": {},
   "outputs": [
    {
     "data": {
      "text/plain": [
       "0"
      ]
     },
     "execution_count": 6,
     "metadata": {},
     "output_type": "execute_result"
    }
   ],
   "source": [
    "np.argmin([0,1,2])"
   ]
  },
  {
   "cell_type": "code",
   "execution_count": null,
   "id": "korean-vietnamese",
   "metadata": {},
   "outputs": [],
   "source": []
  },
  {
   "cell_type": "code",
   "execution_count": 12,
   "id": "suitable-undergraduate",
   "metadata": {},
   "outputs": [
    {
     "ename": "SyntaxError",
     "evalue": "invalid syntax (3074125708.py, line 18)",
     "output_type": "error",
     "traceback": [
      "\u001b[0;36m  Cell \u001b[0;32mIn[12], line 18\u001b[0;36m\u001b[0m\n\u001b[0;31m    U=1/np.sqrt(dx)*U; % orthonormal eigenbasis w.r.t. scaled inner product\u001b[0m\n\u001b[0m                       ^\u001b[0m\n\u001b[0;31mSyntaxError\u001b[0m\u001b[0;31m:\u001b[0m invalid syntax\n"
     ]
    }
   ],
   "source": [
    "n = 3000\n",
    "L = 240\n",
    "dx = 2*L/(n+1)\n",
    "x = np.linspace(-L,L,n+1)\n",
    "\n",
    "\n",
    "inr = lambda x,y : dx*np.vdot(x,y)\n",
    "e = np.ones(n+1)\n",
    "e1 = np.ones(n)\n",
    "D2 = dx**(-2)*scipy.sparse.diags([e1.conj(),-2*e,e1], [-1,0,1])\n",
    "Vvec = 1-1/np.sqrt(x**2 + 1)\n",
    "H0 = -D2+scipy.sparse.diags([Vvec],[0])\n",
    "\n",
    "[e,U] = np.linalg.eig(H0.toarray())\n",
    "\n",
    "U=1/np.sqrt(dx)*U # orthonormal eigenbasis w.r.t. scaled inner product\n",
    "ij = np.argsort(e)\n",
    "e=e[ij]\n",
    "u5 = U[:,ij[4]]\n",
    "strength = 1e-3;\n",
    "Hp2 = scipy.sparse.diags([strength*x],[0])\n",
    "He = H0 + Hp2\n",
    "\n"
   ]
  },
  {
   "cell_type": "code",
   "execution_count": 5,
   "id": "healthy-feelings",
   "metadata": {},
   "outputs": [
    {
     "name": "stdout",
     "output_type": "stream",
     "text": [
      "[151.63289283 157.3480905  157.34606506 157.3439204  157.34157944\n",
      " 157.34157944 157.33900975 157.33900975 157.3361919  157.3361919 ]\n"
     ]
    }
   ],
   "source": [
    "U=1/np.sqrt(dx)*U #  orthonormal eigenbasis w.r.t. scaled inner product\n",
    "print(e[:10])"
   ]
  },
  {
   "cell_type": "code",
   "execution_count": 11,
   "id": "further-directory",
   "metadata": {},
   "outputs": [],
   "source": []
  },
  {
   "cell_type": "code",
   "execution_count": 10,
   "id": "raised-headline",
   "metadata": {},
   "outputs": [
    {
     "data": {
      "text/plain": [
       "array([0.41184662, 0.82143335, 0.90700759, 0.9469972 , 0.96403984,\n",
       "       0.97510973, 0.98108924, 0.98561231, 0.98836689, 0.99064043])"
      ]
     },
     "execution_count": 10,
     "metadata": {},
     "output_type": "execute_result"
    }
   ],
   "source": [
    "e[:10]"
   ]
  },
  {
   "cell_type": "code",
   "execution_count": null,
   "id": "gross-fountain",
   "metadata": {},
   "outputs": [],
   "source": []
  }
 ],
 "metadata": {
  "kernelspec": {
   "display_name": "Python 3 (ipykernel)",
   "language": "python",
   "name": "python3"
  },
  "language_info": {
   "codemirror_mode": {
    "name": "ipython",
    "version": 3
   },
   "file_extension": ".py",
   "mimetype": "text/x-python",
   "name": "python",
   "nbconvert_exporter": "python",
   "pygments_lexer": "ipython3",
   "version": "3.10.12"
  }
 },
 "nbformat": 4,
 "nbformat_minor": 5
}
