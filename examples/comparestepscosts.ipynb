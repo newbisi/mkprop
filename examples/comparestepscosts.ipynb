{
 "cells": [
  {
   "cell_type": "code",
   "execution_count": 1,
   "id": "cubic-clarity",
   "metadata": {},
   "outputs": [],
   "source": [
    "import scipy.sparse\n",
    "import scipy.linalg\n",
    "import numpy as np\n",
    "import mkprop\n",
    "from exlaser import doublewellproblem as prob\n",
    "import matplotlib.pyplot as plt\n",
    "\n",
    "\n",
    "n=1000\n",
    "L=5\n",
    "Hamiltonian = prob(n,L)\n",
    "\n",
    "x, nrm, inr = Hamiltonian.getprop()\n",
    "#tend = 5.0\n",
    "tnow = 0\n",
    "tend = 0.1\n",
    "u = Hamiltonian.getinitialstate()\n",
    "\n",
    "mv, dmv = Hamiltonian.setupHamiltonian(0)"
   ]
  },
  {
   "cell_type": "code",
   "execution_count": 2,
   "id": "oriented-soccer",
   "metadata": {},
   "outputs": [],
   "source": [
    "np.set_printoptions(linewidth=180)\n",
    "m=40\n",
    "tol=1e-4\n",
    "ktype=2\n",
    "reo=0"
   ]
  },
  {
   "cell_type": "code",
   "execution_count": 3,
   "id": "6886bbd4-1173-4826-8f27-49f6caa29ea6",
   "metadata": {},
   "outputs": [],
   "source": [
    "dtinit = 5e-2\n",
    "yCFM4a1,tlist1,dtlist1,_,mc11,mc12,mc13 = mkprop.adaptiveCFMp4j2(u,tnow,tend,dtinit,Hamiltonian,tol=tol,ktype=ktype,reo=reo,inr=inr)"
   ]
  },
  {
   "cell_type": "code",
   "execution_count": 4,
   "id": "humanitarian-interface",
   "metadata": {
    "scrolled": true
   },
   "outputs": [],
   "source": [
    "dtinit = 5e-2\n",
    "yCFM4a2,tlist2,dtlist2,_,mc21,mc22,mc23 = mkprop.adaptiveCFMp4j3(u,tnow,tend,dtinit,Hamiltonian,tol=tol,ktype=ktype,reo=reo,inr=inr)"
   ]
  },
  {
   "cell_type": "code",
   "execution_count": 5,
   "id": "4cdad36e-7a21-496d-a7d9-f658c960c84a",
   "metadata": {},
   "outputs": [],
   "source": [
    "dtinit = 1e-3\n",
    "ympa1,tlist3,dtlist3,_,mc31,mc32,mc33 = mkprop.adaptivemidpoint(u,tnow,tend,dtinit,Hamiltonian,tol=tol,ktype=ktype,reo=reo,inr=inr)"
   ]
  },
  {
   "cell_type": "code",
   "execution_count": 6,
   "id": "equivalent-heart",
   "metadata": {},
   "outputs": [
    {
     "name": "stdout",
     "output_type": "stream",
     "text": [
      "8.039410088701248e-07\n",
      "6.358943646227382e-06\n"
     ]
    }
   ],
   "source": [
    "print(nrm(yCFM4a1-yCFM4a2))\n",
    "print(nrm(ympa1-yCFM4a2))"
   ]
  },
  {
   "cell_type": "code",
   "execution_count": 7,
   "id": "forbidden-manner",
   "metadata": {},
   "outputs": [
    {
     "name": "stdout",
     "output_type": "stream",
     "text": [
      "2968 2932 2819\n",
      "0 0 3707\n",
      "2372 2242 28\n"
     ]
    }
   ],
   "source": [
    "print(sum(mc11),sum(mc21),sum(mc31))\n",
    "print(sum(mc12),sum(mc22),sum(mc32))\n",
    "print(sum(mc13),sum(mc23),sum(mc33))"
   ]
  },
  {
   "cell_type": "code",
   "execution_count": 8,
   "id": "headed-merit",
   "metadata": {},
   "outputs": [
    {
     "data": {
      "image/png": "[encoded data removed]",
      "text/plain": [
       "<Figure size 640x480 with 1 Axes>"
      ]
     },
     "metadata": {},
     "output_type": "display_data"
    }
   ],
   "source": [
    "# time steps dt over time\n",
    "plt.semilogy(tlist1,dtlist1,'+-',tlist2,dtlist2,'x-',tlist3,dtlist3);"
   ]
  },
  {
   "cell_type": "code",
   "execution_count": 9,
   "id": "metropolitan-westminster",
   "metadata": {
    "tags": []
   },
   "outputs": [
    {
     "data": {
      "image/png": "[encoded data removed]",
      "text/plain": [
       "<Figure size 640x480 with 1 Axes>"
      ]
     },
     "metadata": {},
     "output_type": "display_data"
    }
   ],
   "source": [
    "# number of matrix-vector multiplications used per time step over time (only for steps which were accepted)\n",
    "eff1 = [(m1+m3)/dt for (m1,m2,m3,dt) in zip(mc11,mc12,mc13,dtlist1)]\n",
    "eff2 = [(m1+m3)/dt for (m1,m2,m3,dt) in zip(mc21,mc22,mc23,dtlist2)]\n",
    "eff3 = [(m1+m3)/dt for (m1,m2,m3,dt) in zip(mc31,mc32,mc33,dtlist3)]\n",
    "plt.semilogy(tlist1,eff1,'+-',tlist2,eff2,'x-',tlist3,eff3,'x-');"
   ]
  },
  {
   "cell_type": "code",
   "execution_count": null,
   "id": "streaming-fetish",
   "metadata": {},
   "outputs": [],
   "source": []
  },
  {
   "cell_type": "code",
   "execution_count": null,
   "id": "e25b245f-a1fe-43b9-82c7-af7d7ba2dad7",
   "metadata": {},
   "outputs": [],
   "source": []
  },
  {
   "cell_type": "code",
   "execution_count": null,
   "id": "qualified-drilling",
   "metadata": {
    "tags": []
   },
   "outputs": [],
   "source": []
  },
  {
   "cell_type": "code",
   "execution_count": null,
   "id": "dried-visit",
   "metadata": {},
   "outputs": [],
   "source": []
  },
  {
   "cell_type": "code",
   "execution_count": null,
   "id": "quality-liverpool",
   "metadata": {},
   "outputs": [],
   "source": []
  },
  {
   "cell_type": "code",
   "execution_count": null,
   "id": "excessive-indicator",
   "metadata": {},
   "outputs": [],
   "source": []
  },
  {
   "cell_type": "code",
   "execution_count": null,
   "id": "built-phone",
   "metadata": {},
   "outputs": [],
   "source": []
  },
  {
   "cell_type": "code",
   "execution_count": null,
   "id": "unnecessary-national",
   "metadata": {},
   "outputs": [],
   "source": []
  },
  {
   "cell_type": "code",
   "execution_count": null,
   "id": "exempt-transfer",
   "metadata": {},
   "outputs": [],
   "source": []
  },
  {
   "cell_type": "code",
   "execution_count": null,
   "id": "588d5399-61d6-43a1-a665-529efaf8ac7c",
   "metadata": {},
   "outputs": [],
   "source": []
  },
  {
   "cell_type": "code",
   "execution_count": null,
   "id": "702bdd48-47f4-4d7d-9f30-f67b67718098",
   "metadata": {},
   "outputs": [],
   "source": []
  },
  {
   "cell_type": "code",
   "execution_count": null,
   "id": "ead1962f-0c19-4edc-afcc-df4fc53e539c",
   "metadata": {},
   "outputs": [],
   "source": []
  }
 ],
 "metadata": {
  "kernelspec": {
   "display_name": "Python 3 (ipykernel)",
   "language": "python",
   "name": "python3"
  },
  "language_info": {
   "codemirror_mode": {
    "name": "ipython",
    "version": 3
   },
   "file_extension": ".py",
   "mimetype": "text/x-python",
   "name": "python",
   "nbconvert_exporter": "python",
   "pygments_lexer": "ipython3",
   "version": "3.10.12"
  }
 },
 "nbformat": 4,
 "nbformat_minor": 5
}
