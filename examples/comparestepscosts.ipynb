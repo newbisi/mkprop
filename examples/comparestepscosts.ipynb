{
 "cells": [
  {
   "cell_type": "code",
   "execution_count": 1,
   "id": "cubic-clarity",
   "metadata": {},
   "outputs": [],
   "source": [
    "import scipy.sparse\n",
    "import scipy.linalg\n",
    "import numpy as np\n",
    "import mkprop\n",
    "from exlaser import doublewellproblem as prob\n",
    "import matplotlib.pyplot as plt\n",
    "\n",
    "n=1200\n",
    "L=5\n",
    "Hamiltonian = prob(n,L)\n",
    "\n",
    "x, nrm, inr = Hamiltonian.getprop()\n",
    "#tend = 5.0\n",
    "tnow = 0\n",
    "tend = 0.6\n",
    "u = Hamiltonian.getinitialstate()\n",
    "\n",
    "mv, dmv = Hamiltonian.setupHamiltonian(0)"
   ]
  },
  {
   "cell_type": "code",
   "execution_count": 2,
   "id": "oriented-soccer",
   "metadata": {},
   "outputs": [],
   "source": [
    "np.set_printoptions(linewidth=180)\n",
    "m=60\n",
    "tol=1e-8\n",
    "ktype=2\n",
    "reo=0"
   ]
  },
  {
   "cell_type": "code",
   "execution_count": 3,
   "id": "6886bbd4-1173-4826-8f27-49f6caa29ea6",
   "metadata": {},
   "outputs": [],
   "source": [
    "dtinit = 5e-2\n",
    "yCFM4a1,tlist1,dtlist1,_,mc11,mc12,mc13 = mkprop.adaptiveCFMp4j2(u,tnow,tend,dtinit,Hamiltonian,tol=tol,ktype=ktype,reo=reo,inr=inr)"
   ]
  },
  {
   "cell_type": "code",
   "execution_count": 4,
   "id": "humanitarian-interface",
   "metadata": {
    "scrolled": true
   },
   "outputs": [],
   "source": [
    "dtinit = 5e-2\n",
    "yCFM4a2,tlist2,dtlist2,_,mc21,mc22,mc23 = mkprop.adaptiveCFMp4j3(u,tnow,tend,dtinit,Hamiltonian,tol=tol,ktype=ktype,reo=reo,inr=inr)"
   ]
  },
  {
   "cell_type": "code",
   "execution_count": 5,
   "id": "efbddd94-e7c0-40f2-a218-fffc2b076275",
   "metadata": {},
   "outputs": [],
   "source": [
    "dtinit = 5e-2\n",
    "yCFM4BBK,tlist3,dtlist3,_,mc31,mc32,mc33 = mkprop.adaptiveCFMBBK4(u,tnow,tend,dtinit,Hamiltonian,tol=tol,ktype=ktype,reo=reo,inr=inr)"
   ]
  },
  {
   "cell_type": "code",
   "execution_count": null,
   "id": "4cdad36e-7a21-496d-a7d9-f658c960c84a",
   "metadata": {},
   "outputs": [],
   "source": [
    "dtinit = 1e-3\n",
    "ympa1,tlist4,dtlist4,_,mc41,mc42,mc43 = mkprop.adaptivemidpoint(u,tnow,tend,dtinit,Hamiltonian,tol=tol,ktype=ktype,reo=reo,inr=inr)"
   ]
  },
  {
   "cell_type": "code",
   "execution_count": null,
   "id": "equivalent-heart",
   "metadata": {},
   "outputs": [],
   "source": [
    "print(nrm(yCFM4a1-yCFM4a2)/tend)\n",
    "print(nrm(yCFM4BBK-yCFM4a2)/tend)\n",
    "print(nrm(ympa1-yCFM4a2)/tend)"
   ]
  },
  {
   "cell_type": "code",
   "execution_count": null,
   "id": "forbidden-manner",
   "metadata": {},
   "outputs": [],
   "source": [
    "print(sum(mc11),sum(mc21),sum(mc31),sum(mc41))\n",
    "print(sum(mc12),sum(mc22),sum(mc32),sum(mc42))\n",
    "print(sum(mc13),sum(mc23),sum(mc33),sum(mc43))"
   ]
  },
  {
   "cell_type": "code",
   "execution_count": null,
   "id": "headed-merit",
   "metadata": {},
   "outputs": [],
   "source": [
    "# time steps dt over time\n",
    "plt.semilogy(tlist1,dtlist1,'+-',tlist2,dtlist2,'x-',tlist3,dtlist3,'.-',tlist4,dtlist4);\n",
    "plt.ylabel('time step')\n",
    "plt.xlabel('time')\n",
    "plt.gca().legend(('CFMp4j2','CFMp4j3','CFMp4BBK','midpoint'), loc='center right')\n",
    "#plt.savefig(\"stepsize.pdf\", format=\"pdf\", bbox_inches=\"tight\")\n",
    "plt.savefig(\"stepsize.png\")"
   ]
  },
  {
   "cell_type": "code",
   "execution_count": null,
   "id": "metropolitan-westminster",
   "metadata": {
    "tags": []
   },
   "outputs": [],
   "source": [
    "# number of matrix-vector multiplications used per time step over time (only for steps which were accepted)\n",
    "eff1 = [(m1+m3)/dt for (m1,m2,m3,dt) in zip(mc11,mc12,mc13,dtlist1)]\n",
    "eff2 = [(m1+m3)/dt for (m1,m2,m3,dt) in zip(mc21,mc22,mc23,dtlist2)]\n",
    "eff3 = [(m1+m3)/dt for (m1,m2,m3,dt) in zip(mc31,mc32,mc33,dtlist3)]\n",
    "eff4 = [(m1+m3)/dt for (m1,m2,m3,dt) in zip(mc41,mc42,mc43,dtlist4)]\n",
    "plt.semilogy(tlist1[1:-1],eff1[1:-1],'+-',tlist2[1:-1],eff2[1:-1],'x-',\n",
    "             tlist3[1:-1],eff3[1:-1],'.-',tlist4[1:-1],eff4[1:-1]);\n",
    "plt.ylabel('cost per time step')\n",
    "plt.xlabel('time')\n",
    "plt.gca().legend(('CFMp4j2','CFMp4j3','CFMp4BBK','midpoint'))\n",
    "#plt.title('cost per time step over time');\n",
    "#plt.savefig(\"costperstepsize.pdf\", format=\"pdf\", bbox_inches=\"tight\")\n",
    "plt.savefig(\"costperstepsize.png\")"
   ]
  },
  {
   "cell_type": "code",
   "execution_count": null,
   "id": "streaming-fetish",
   "metadata": {},
   "outputs": [],
   "source": []
  },
  {
   "cell_type": "code",
   "execution_count": null,
   "id": "e25b245f-a1fe-43b9-82c7-af7d7ba2dad7",
   "metadata": {},
   "outputs": [],
   "source": []
  },
  {
   "cell_type": "code",
   "execution_count": null,
   "id": "qualified-drilling",
   "metadata": {
    "tags": []
   },
   "outputs": [],
   "source": []
  },
  {
   "cell_type": "code",
   "execution_count": null,
   "id": "dried-visit",
   "metadata": {},
   "outputs": [],
   "source": []
  },
  {
   "cell_type": "code",
   "execution_count": null,
   "id": "quality-liverpool",
   "metadata": {},
   "outputs": [],
   "source": []
  },
  {
   "cell_type": "code",
   "execution_count": null,
   "id": "excessive-indicator",
   "metadata": {},
   "outputs": [],
   "source": []
  },
  {
   "cell_type": "code",
   "execution_count": null,
   "id": "built-phone",
   "metadata": {},
   "outputs": [],
   "source": []
  },
  {
   "cell_type": "code",
   "execution_count": null,
   "id": "unnecessary-national",
   "metadata": {},
   "outputs": [],
   "source": []
  },
  {
   "cell_type": "code",
   "execution_count": null,
   "id": "exempt-transfer",
   "metadata": {},
   "outputs": [],
   "source": []
  },
  {
   "cell_type": "code",
   "execution_count": null,
   "id": "588d5399-61d6-43a1-a665-529efaf8ac7c",
   "metadata": {},
   "outputs": [],
   "source": []
  },
  {
   "cell_type": "code",
   "execution_count": null,
   "id": "702bdd48-47f4-4d7d-9f30-f67b67718098",
   "metadata": {},
   "outputs": [],
   "source": []
  },
  {
   "cell_type": "code",
   "execution_count": null,
   "id": "ead1962f-0c19-4edc-afcc-df4fc53e539c",
   "metadata": {},
   "outputs": [],
   "source": []
  }
 ],
 "metadata": {
  "kernelspec": {
   "display_name": "Python 3 (ipykernel)",
   "language": "python",
   "name": "python3"
  },
  "language_info": {
   "codemirror_mode": {
    "name": "ipython",
    "version": 3
   },
   "file_extension": ".py",
   "mimetype": "text/x-python",
   "name": "python",
   "nbconvert_exporter": "python",
   "pygments_lexer": "ipython3",
   "version": "3.10.12"
  }
 },
 "nbformat": 4,
 "nbformat_minor": 5
}
