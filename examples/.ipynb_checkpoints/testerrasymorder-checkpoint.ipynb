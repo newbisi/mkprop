{
 "cells": [
  {
   "cell_type": "code",
   "execution_count": 1,
   "id": "cubic-clarity",
   "metadata": {},
   "outputs": [],
   "source": [
    "import scipy.sparse\n",
    "import scipy.linalg\n",
    "import numpy as np\n",
    "import mkprop\n",
    "from exlaser import doublewellproblem as prob\n",
    "import matplotlib.pyplot as plt\n",
    "\n",
    "n=2000\n",
    "L=5\n",
    "Hamiltonian = prob(n,L)\n",
    "\n",
    "x, nrm, inr = Hamiltonian.getprop()\n",
    "#tend = 5.0\n",
    "tend = 0.05\n",
    "u = Hamiltonian.getinitialstate()\n",
    "\n",
    "mv, dmv = Hamiltonian.setupHamiltonian(0)"
   ]
  },
  {
   "cell_type": "code",
   "execution_count": 2,
   "id": "oriented-soccer",
   "metadata": {},
   "outputs": [],
   "source": [
    "np.set_printoptions(linewidth=180)\n",
    "m=40\n",
    "tol=1e-4"
   ]
  },
  {
   "cell_type": "code",
   "execution_count": 3,
   "id": "qualified-drilling",
   "metadata": {
    "tags": []
   },
   "outputs": [],
   "source": [
    "c = 3**0.5/6\n",
    "cmat = [0.5-c, 0.5+c]\n",
    "amat=[[0.25+c,0.25-c],[0.25-c,0.25+c]]\n",
    "parth1 = [1,0]\n",
    "parth2 = [0,1]"
   ]
  },
  {
   "cell_type": "code",
   "execution_count": 4,
   "id": "b3bb35ec-14e6-4548-8d2c-862c928256a0",
   "metadata": {},
   "outputs": [],
   "source": [
    "c = 15**0.5\n",
    "cmat = [0.5-c/10, 0.5, 0.5+c/10]\n",
    "#amat = [[0.302146842308616954258187683416,\n",
    "#         -0.030742768872036394116279742324,\n",
    "#         0.004851603407498684079562131338],\n",
    "#        [-0.029220667938337860559972036973,\n",
    "#         0.505929982188517232677003929089,\n",
    "#         -0.029220667938337860559972036973],\n",
    "#        [0.004851603407498684079562131337,\n",
    "#         -0.030742768872036394116279742324,\n",
    "#         0.302146842308616954258187683417]]\n",
    "\n",
    "amat = [[37.0/240 + 10*c/3/87, -1.0/30, 37.0/240 - 10*c/3/87],\n",
    "        [-11.0/360, 23.0/45, -11.0/360],\n",
    "        [37.0/240 - 10*c/3/87, -1.0/30, 37.0/240 + 10*c/3/87]]\n",
    "\n",
    "sa=0.5/sum(amat[0])\n",
    "parth1 = [sa, 0.5, 1-sa]\n",
    "parth2 = [1-sa, 0.5, sa]"
   ]
  },
  {
   "cell_type": "code",
   "execution_count": 5,
   "id": "3f4d5128-8505-4958-83ec-e88d259addda",
   "metadata": {},
   "outputs": [],
   "source": [
    "#c=15**0.5\n",
    "#cmat = [0.5-c/10, 0.5, 0.5+c/10]\n",
    "#amat = [[0.79124225942889763, -0.080400755305553218, 0.012765293626634554],\n",
    "#        [-0.48931475164583259, 0.054170980027798808,-0.012069823881924156],\n",
    "#        [-0.029025638294289255, 0.50138457552775674,-0.025145341733509552],\n",
    "#        [0.0048759082890019896,-0.030710355805557892,0.30222764976657693]]"
   ]
  },
  {
   "cell_type": "code",
   "execution_count": null,
   "id": "c55d6f14-3820-443c-bb61-7dc57850987a",
   "metadata": {},
   "outputs": [],
   "source": []
  },
  {
   "cell_type": "code",
   "execution_count": 6,
   "id": "dried-visit",
   "metadata": {},
   "outputs": [
    {
     "name": "stdout",
     "output_type": "stream",
     "text": [
      "0\n",
      "1\n",
      "2\n",
      "3\n",
      "4\n",
      "5\n",
      "6\n",
      "7\n"
     ]
    }
   ],
   "source": [
    "c = 3**0.5/6\n",
    "cmat2 = [0.5-c, 0.5+c]\n",
    "amat2 = [[0.25+c,0.25-c],[0.25-c,0.25+c]]\n",
    "jexps2=len(amat2)\n",
    "\n",
    "chat = -0.5\n",
    "jexps=len(amat)\n",
    "p=4\n",
    "\n",
    "tnow = 0.522345\n",
    "sig = 1j\n",
    "tolkry=1e-8\n",
    "\n",
    "y0=u\n",
    "mv0, _ = Hamiltonian.setupHamiltonian(tnow)\n",
    "ye0 = mv0(y0)\n",
    "ye0 = ye0+0j\n",
    "\n",
    "dts = np.geomspace(1e-1,5e-3,8)\n",
    "errlist = np.zeros(dts.size)\n",
    "errestlist1 = np.zeros(dts.size)\n",
    "errestlist2 = np.zeros(dts.size)\n",
    "for dt, ij in zip(dts,range(len(dts))):\n",
    "    print(ij)\n",
    "    y0sub=u\n",
    "    e0sub=-0.5*ye0\n",
    "    for know in range(jexps):\n",
    "        anow = amat[know]\n",
    "        mv, dmv = Hamiltonian.setupHamiltonianCFM(anow,cmat,chat,tnow,dt)\n",
    "\n",
    "        dHpsi = dmv(y0sub)\n",
    "        Hpsi = mv(y0sub)\n",
    "        HdHpsi = mv(dHpsi)\n",
    "        dHHpsi = dmv(Hpsi)\n",
    "        Gam11 = parth1[know]*Hpsi + dt/2*dHpsi - sig*dt**2/12*(HdHpsi-dHHpsi)\n",
    "        e0sub += Gam11\n",
    "\n",
    "        y1sub, errestkry, tkrylist, mlist1 = mkprop.expimv_pKry(mv,y0sub,tol=tolkry,t=dt,m=m,ktype=2,reo=0)\n",
    "        e1sub, errestkry, tkrylist, mlist2 = mkprop.expimv_pKry(mv,e0sub,tol=tolkry,t=dt,m=m,ktype=2,reo=0)\n",
    "        \n",
    "        dHpsi = dmv(y1sub)\n",
    "        Hpsi = mv(y1sub)\n",
    "        HdHpsi = mv(dHpsi)\n",
    "        dHHpsi = dmv(Hpsi)\n",
    "        Gam12 = parth2[know]*Hpsi + dt/2*dHpsi + sig*dt**2/12*(HdHpsi-dHHpsi)\n",
    "        e1sub += Gam12\n",
    "        e0sub = e1sub\n",
    "        y0sub = y1sub\n",
    "\n",
    "    # computer error estimate\n",
    "    y1 = y1sub\n",
    "    mv2, _ = Hamiltonian.setupHamiltonian(tnow+dt)\n",
    "    ye1 = mv2(y1)\n",
    "    def1 = e1sub-0.5*ye1\n",
    "    errestmag = dt/(p+1)*nrm(def1)\n",
    "    errestlist1[ij]=errestmag\n",
    "    tolkry=1e-3*errestmag\n",
    "    #print(errestmag)\n",
    "    \n",
    "    refsteps=4\n",
    "    y0sub=u\n",
    "    t=tnow\n",
    "    dt2=dt/refsteps\n",
    "    for j in range(refsteps):\n",
    "        for know in range(jexps2):\n",
    "            anow = amat2[know]\n",
    "            mv, dmv = Hamiltonian.setupHamiltonianCFM(anow,cmat2,chat,t,dt2)\n",
    "            y1sub, errestkry, tkrylist, mlist1 = mkprop.expimv_pKry(mv,y0sub,tol=tolkry,t=dt2,m=m,ktype=2,reo=0)\n",
    "            y0sub = y1sub\n",
    "        t+=dt2\n",
    "    testerr = nrm(y1sub-y1)\n",
    "    errlist[ij]=testerr\n",
    "    #print(testerr)\n",
    "        \n",
    "        "
   ]
  },
  {
   "cell_type": "code",
   "execution_count": 7,
   "id": "666a4acf-7e91-44ce-9b01-9937b58dafd0",
   "metadata": {},
   "outputs": [
    {
     "data": {
      "text/plain": [
       "[<matplotlib.lines.Line2D at 0x7f2fda12f880>,\n",
       " <matplotlib.lines.Line2D at 0x7f2fda12f8b0>,\n",
       " <matplotlib.lines.Line2D at 0x7f2fda12f700>]"
      ]
     },
     "execution_count": 7,
     "metadata": {},
     "output_type": "execute_result"
    },
    {
     "data": {
      "image/png": "[encoded data removed]",
      "text/plain": [
       "<Figure size 640x480 with 1 Axes>"
      ]
     },
     "metadata": {},
     "output_type": "display_data"
    }
   ],
   "source": [
    "plt.loglog(dts, errestlist1,'+-',dts,errlist,'-x',dts,1e-1*dts**(p+1),':')"
   ]
  },
  {
   "cell_type": "code",
   "execution_count": 8,
   "id": "bed842e3-5a7c-40dc-bd0e-56860f930e96",
   "metadata": {},
   "outputs": [
    {
     "name": "stdout",
     "output_type": "stream",
     "text": [
      "0\n",
      "1\n",
      "2\n",
      "3\n",
      "4\n",
      "5\n",
      "6\n",
      "7\n"
     ]
    }
   ],
   "source": [
    "c = 3**0.5/6\n",
    "cmat2 = [0.5-c, 0.5+c]\n",
    "amat2 = [[0.25+c,0.25-c],[0.25-c,0.25+c]]\n",
    "jexps=len(amat2)\n",
    "\n",
    "chat = -0.5\n",
    "jexps=len(amat)\n",
    "p=2\n",
    "\n",
    "tnow = 0.522345\n",
    "sig = 1j\n",
    "tolkry=1e-8\n",
    "\n",
    "y0=u\n",
    "mv0, _ = Hamiltonian.setupHamiltonian(tnow)\n",
    "ye0 = mv0(y0)\n",
    "ye0 = ye0+0j\n",
    "\n",
    "dts = np.geomspace(1e-1,5e-3,8)\n",
    "errlist = np.zeros(dts.size)\n",
    "errestlist1 = np.zeros(dts.size)\n",
    "errestlist2 = np.zeros(dts.size)\n",
    "for dt, ij in zip(dts,range(len(dts))):\n",
    "    print(ij)\n",
    "\n",
    "    y0=u\n",
    "    mv, dmv = Hamiltonian.setupHamiltonian(tnow+0.5*dt)\n",
    "\n",
    "    y1, errestkry, tkrylist, mlist = mkprop.expimv_pKry(mv,y0,tol=tolkry,t=dt,m=m,ktype=2,reo=0)\n",
    "    \n",
    "    y0esym=mv(y0)-ye0\n",
    "    defp2, errestkry, tkrylist, mlist = mkprop.expimv_pKry(mv,y0esym,tol=tolkry,t=dt,m=m,ktype=2,reo=0)\n",
    "    # computer error estimate\n",
    "    gam2 = mv(y1)\n",
    "    mv2, _ = Hamiltonian.setupHamiltonian(tnow+dt)\n",
    "    y1enext = mv2(y1)\n",
    "    def1 = 0.5*(gam2-y1enext+defp2)\n",
    "    errestmag = dt/(p+1)*nrm(def1)\n",
    "    errestlist1[ij]=errestmag\n",
    "\n",
    "    # computer error estimate 2\n",
    "    dHpsi = dmv(y1)\n",
    "    HdHpsi = mv(dHpsi)\n",
    "    Hpsi = mv(y1)\n",
    "    dHHpsi = dmv(Hpsi)\n",
    "    defp1 = Hpsi + 0.5*dt*dHpsi + 0.5*sig*dt**2/2*(HdHpsi-dHHpsi)\n",
    "    def1 = defp1-mv2(y1)\n",
    "    errestmag = dt/(p+1)*nrm(def1)\n",
    "    errestlist2[ij]=errestmag\n",
    "\n",
    "    tolkry=1e-3*errestmag\n",
    "\n",
    "    \n",
    "    refsteps=4\n",
    "    y0sub=u\n",
    "    t=tnow\n",
    "    dt2=dt/refsteps\n",
    "    for j in range(refsteps):\n",
    "        for know in range(jexps2):\n",
    "            anow = amat2[know]\n",
    "            mv, dmv = Hamiltonian.setupHamiltonianCFM(anow,cmat2,chat,t,dt2)\n",
    "            y1sub, errestkry, tkrylist, mlist1 = mkprop.expimv_pKry(mv,y0sub,tol=tolkry,t=dt2,m=m,ktype=2,reo=0)\n",
    "            y0sub = y1sub\n",
    "        t+=dt2\n",
    "    testerr = nrm(y1sub-y1)\n",
    "    errlist[ij]=testerr\n",
    "    #print(testerr)\n"
   ]
  },
  {
   "cell_type": "code",
   "execution_count": 12,
   "id": "31e59a67-82b8-4f34-8a31-3146d08f75d9",
   "metadata": {},
   "outputs": [
    {
     "data": {
      "text/plain": [
       "[<matplotlib.lines.Line2D at 0x7f2fd76e6620>,\n",
       " <matplotlib.lines.Line2D at 0x7f2fd76e6980>,\n",
       " <matplotlib.lines.Line2D at 0x7f2fd76e6950>,\n",
       " <matplotlib.lines.Line2D at 0x7f2fd76e6b30>]"
      ]
     },
     "execution_count": 12,
     "metadata": {},
     "output_type": "execute_result"
    },
    {
     "data": {
      "image/png": "[encoded data removed]",
      "text/plain": [
       "<Figure size 640x480 with 1 Axes>"
      ]
     },
     "metadata": {},
     "output_type": "display_data"
    }
   ],
   "source": [
    "plt.loglog(dts, errestlist1,'+-',dts,errlist,'-x',dts, errestlist2,'.--',dts,1e1*dts**(p+1),':')"
   ]
  },
  {
   "cell_type": "code",
   "execution_count": null,
   "id": "quality-liverpool",
   "metadata": {},
   "outputs": [],
   "source": []
  },
  {
   "cell_type": "code",
   "execution_count": null,
   "id": "excessive-indicator",
   "metadata": {},
   "outputs": [],
   "source": []
  },
  {
   "cell_type": "code",
   "execution_count": null,
   "id": "built-phone",
   "metadata": {},
   "outputs": [],
   "source": []
  },
  {
   "cell_type": "code",
   "execution_count": null,
   "id": "unnecessary-national",
   "metadata": {},
   "outputs": [],
   "source": []
  },
  {
   "cell_type": "code",
   "execution_count": null,
   "id": "a668222f-44f6-429f-a7f2-bb9316a69fa5",
   "metadata": {},
   "outputs": [],
   "source": []
  },
  {
   "cell_type": "code",
   "execution_count": null,
   "id": "exempt-transfer",
   "metadata": {},
   "outputs": [],
   "source": []
  },
  {
   "cell_type": "code",
   "execution_count": null,
   "id": "588d5399-61d6-43a1-a665-529efaf8ac7c",
   "metadata": {},
   "outputs": [],
   "source": []
  },
  {
   "cell_type": "code",
   "execution_count": null,
   "id": "702bdd48-47f4-4d7d-9f30-f67b67718098",
   "metadata": {},
   "outputs": [],
   "source": []
  },
  {
   "cell_type": "code",
   "execution_count": null,
   "id": "ead1962f-0c19-4edc-afcc-df4fc53e539c",
   "metadata": {},
   "outputs": [],
   "source": []
  },
  {
   "cell_type": "code",
   "execution_count": null,
   "id": "15ed9af4-6830-4b37-a9cf-dc7308473837",
   "metadata": {},
   "outputs": [],
   "source": []
  },
  {
   "cell_type": "code",
   "execution_count": null,
   "id": "e120fea6-a67f-47cf-bbbb-42ae3311eddd",
   "metadata": {},
   "outputs": [],
   "source": []
  }
 ],
 "metadata": {
  "kernelspec": {
   "display_name": "Python 3 (ipykernel)",
   "language": "python",
   "name": "python3"
  },
  "language_info": {
   "codemirror_mode": {
    "name": "ipython",
    "version": 3
   },
   "file_extension": ".py",
   "mimetype": "text/x-python",
   "name": "python",
   "nbconvert_exporter": "python",
   "pygments_lexer": "ipython3",
   "version": "3.10.12"
  }
 },
 "nbformat": 4,
 "nbformat_minor": 5
}
