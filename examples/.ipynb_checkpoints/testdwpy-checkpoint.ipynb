{
 "cells": [
  {
   "cell_type": "code",
   "execution_count": 1,
   "id": "cubic-clarity",
   "metadata": {},
   "outputs": [],
   "source": [
    "import scipy.sparse\n",
    "import scipy.linalg\n",
    "import numpy as np\n",
    "import mkprop\n",
    "from exlaser import doublewellproblem as prob\n",
    "import matplotlib.pyplot as plt\n",
    "\n",
    "n=2000\n",
    "L=5\n",
    "Hamiltonian = prob(n,L)\n",
    "\n",
    "x, nrm, inr = Hamiltonian.getprop()\n",
    "#tend = 5.0\n",
    "tnow = 0\n",
    "tend = 0.05\n",
    "u = Hamiltonian.getinitialstate()\n",
    "\n",
    "mv, dmv = Hamiltonian.setupHamiltonian(0)"
   ]
  },
  {
   "cell_type": "code",
   "execution_count": 2,
   "id": "oriented-soccer",
   "metadata": {},
   "outputs": [],
   "source": [
    "np.set_printoptions(linewidth=180)\n",
    "m=40\n",
    "tol=1e-4\n",
    "ktype=2\n",
    "reo=0"
   ]
  },
  {
   "cell_type": "code",
   "execution_count": 3,
   "id": "therapeutic-sussex",
   "metadata": {},
   "outputs": [],
   "source": [
    "dtfixed = 1e-5\n",
    "ktol=1e-8\n",
    "ymp,_,_ = mkprop.midpoint(u,tnow,tend,dtfixed,Hamiltonian,ktol=ktol,ktype=ktype,reo=reo,inr=inr)"
   ]
  },
  {
   "cell_type": "code",
   "execution_count": 4,
   "id": "dedicated-removal",
   "metadata": {},
   "outputs": [],
   "source": [
    "dtfixed = 1e-5\n",
    "ktol=1e-8\n",
    "ycfm4,_,_ = mkprop.CFM4(u,tnow,tend,dtfixed,Hamiltonian,ktol=ktol,ktype=ktype,reo=reo,inr=inr)"
   ]
  },
  {
   "cell_type": "code",
   "execution_count": 5,
   "id": "916d2163-c40f-44d2-8b92-2b1945f4e284",
   "metadata": {},
   "outputs": [
    {
     "name": "stdout",
     "output_type": "stream",
     "text": [
      "2.7359845521853008e-06\n"
     ]
    }
   ],
   "source": [
    "print(nrm(yCFM4a1-ycfm4)/tend)"
   ]
  },
  {
   "cell_type": "code",
   "execution_count": 6,
   "id": "9acaf81b-3db9-44bb-83cd-66396de92454",
   "metadata": {},
   "outputs": [],
   "source": [
    "dtinit = 1e-4\n",
    "tol=1e-4\n",
    "ympa1,_,_,_ = mkprop.adaptivemidpoint(u,tnow,tend,dtinit,Hamiltonian,tol=tol,ktype=ktype,reo=reo,inr=inr)"
   ]
  },
  {
   "cell_type": "code",
   "execution_count": 8,
   "id": "f20f7711-ed7b-41cb-89d4-9955babd0d18",
   "metadata": {},
   "outputs": [
    {
     "name": "stdout",
     "output_type": "stream",
     "text": [
      "4.213187967399759e-05\n"
     ]
    }
   ],
   "source": [
    "print(nrm(ympa1-ycfm4)/tend)"
   ]
  },
  {
   "cell_type": "code",
   "execution_count": 6,
   "id": "ed7127ad-b7c3-41a7-91c5-7e140c2add45",
   "metadata": {},
   "outputs": [],
   "source": [
    "dtinit = 1e-4\n",
    "tol=1e-5\n",
    "ympa2,_,_,_ = mkprop.adaptivemidpoint_symdef(u,tnow,tend,dtinit,Hamiltonian,tol=tol,ktype=ktype,reo=reo,inr=inr)"
   ]
  },
  {
   "cell_type": "code",
   "execution_count": 6,
   "id": "accompanied-decrease",
   "metadata": {},
   "outputs": [],
   "source": [
    "dtinit = 1e-4\n",
    "tol=1e-4\n",
    "yCFM4a1,_,_,_ = mkprop.adaptiveCFM4(u,tnow,tend,dtinit,Hamiltonian,tol=tol,ktype=ktype,reo=reo,inr=inr)"
   ]
  },
  {
   "cell_type": "code",
   "execution_count": 7,
   "id": "61025d40-d822-4461-8dac-70a47c83c295",
   "metadata": {},
   "outputs": [
    {
     "name": "stdout",
     "output_type": "stream",
     "text": [
      "1.771055735039626e-06\n"
     ]
    }
   ],
   "source": [
    "print(nrm(yCFM4a1-ycfm4)/tend)"
   ]
  },
  {
   "cell_type": "code",
   "execution_count": 10,
   "id": "5428dabb-2a1f-4ab6-9eae-4f7fe9026528",
   "metadata": {},
   "outputs": [],
   "source": [
    "dtinit = 1e-4\n",
    "tol=1e-6\n",
    "yCFM4a1,_,_,_ = mkprop.adaptiveCFM4(u,tnow,tend,dtinit,Hamiltonian,tol=tol,ktype=ktype,reo=reo,inr=inr)"
   ]
  },
  {
   "cell_type": "code",
   "execution_count": 11,
   "id": "6886bbd4-1173-4826-8f27-49f6caa29ea6",
   "metadata": {},
   "outputs": [
    {
     "name": "stdout",
     "output_type": "stream",
     "text": [
      "4.243519871982091e-07\n"
     ]
    }
   ],
   "source": [
    "print(nrm(yCFM4a1-ycfm4)/tend)"
   ]
  },
  {
   "cell_type": "code",
   "execution_count": null,
   "id": "humanitarian-interface",
   "metadata": {
    "scrolled": true
   },
   "outputs": [],
   "source": []
  },
  {
   "cell_type": "code",
   "execution_count": null,
   "id": "equivalent-heart",
   "metadata": {},
   "outputs": [],
   "source": []
  },
  {
   "cell_type": "code",
   "execution_count": null,
   "id": "forbidden-manner",
   "metadata": {},
   "outputs": [],
   "source": []
  },
  {
   "cell_type": "code",
   "execution_count": null,
   "id": "successful-gregory",
   "metadata": {},
   "outputs": [],
   "source": []
  },
  {
   "cell_type": "code",
   "execution_count": null,
   "id": "headed-merit",
   "metadata": {},
   "outputs": [],
   "source": []
  },
  {
   "cell_type": "code",
   "execution_count": null,
   "id": "metropolitan-westminster",
   "metadata": {
    "tags": []
   },
   "outputs": [],
   "source": []
  },
  {
   "cell_type": "code",
   "execution_count": null,
   "id": "streaming-fetish",
   "metadata": {},
   "outputs": [],
   "source": []
  },
  {
   "cell_type": "code",
   "execution_count": null,
   "id": "e25b245f-a1fe-43b9-82c7-af7d7ba2dad7",
   "metadata": {},
   "outputs": [],
   "source": []
  },
  {
   "cell_type": "code",
   "execution_count": null,
   "id": "qualified-drilling",
   "metadata": {
    "tags": []
   },
   "outputs": [],
   "source": []
  },
  {
   "cell_type": "code",
   "execution_count": null,
   "id": "dried-visit",
   "metadata": {},
   "outputs": [],
   "source": []
  },
  {
   "cell_type": "code",
   "execution_count": null,
   "id": "quality-liverpool",
   "metadata": {},
   "outputs": [],
   "source": []
  },
  {
   "cell_type": "code",
   "execution_count": null,
   "id": "excessive-indicator",
   "metadata": {},
   "outputs": [],
   "source": []
  },
  {
   "cell_type": "code",
   "execution_count": null,
   "id": "built-phone",
   "metadata": {},
   "outputs": [],
   "source": []
  },
  {
   "cell_type": "code",
   "execution_count": null,
   "id": "unnecessary-national",
   "metadata": {},
   "outputs": [],
   "source": []
  },
  {
   "cell_type": "code",
   "execution_count": null,
   "id": "exempt-transfer",
   "metadata": {},
   "outputs": [],
   "source": []
  },
  {
   "cell_type": "code",
   "execution_count": null,
   "id": "588d5399-61d6-43a1-a665-529efaf8ac7c",
   "metadata": {},
   "outputs": [],
   "source": []
  },
  {
   "cell_type": "code",
   "execution_count": null,
   "id": "702bdd48-47f4-4d7d-9f30-f67b67718098",
   "metadata": {},
   "outputs": [],
   "source": []
  },
  {
   "cell_type": "code",
   "execution_count": null,
   "id": "ead1962f-0c19-4edc-afcc-df4fc53e539c",
   "metadata": {},
   "outputs": [],
   "source": []
  }
 ],
 "metadata": {
  "kernelspec": {
   "display_name": "Python 3 (ipykernel)",
   "language": "python",
   "name": "python3"
  },
  "language_info": {
   "codemirror_mode": {
    "name": "ipython",
    "version": 3
   },
   "file_extension": ".py",
   "mimetype": "text/x-python",
   "name": "python",
   "nbconvert_exporter": "python",
   "pygments_lexer": "ipython3",
   "version": "3.10.12"
  }
 },
 "nbformat": 4,
 "nbformat_minor": 5
}
