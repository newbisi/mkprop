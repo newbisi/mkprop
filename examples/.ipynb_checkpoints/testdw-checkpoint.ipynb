{
 "cells": [
  {
   "cell_type": "code",
   "execution_count": 1,
   "id": "north-marsh",
   "metadata": {},
   "outputs": [],
   "source": [
    "import scipy.sparse\n",
    "import scipy.linalg\n",
    "import numpy as np\n",
    "import mkprop\n",
    "from exlaser import doublewellproblem as prob\n",
    "import matplotlib.pyplot as plt\n",
    "\n",
    "n=2000\n",
    "L=5\n",
    "Hamiltonian = prob(n,L)\n",
    "\n",
    "x, nrm, inr = Hamiltonian.getprop()\n",
    "tend = 5.0\n",
    "u = Hamiltonian.getinitialstate()\n",
    "\n",
    "mv, dmv = Hamiltonian.setupHamiltonian(0)"
   ]
  },
  {
   "cell_type": "code",
   "execution_count": 2,
   "id": "humanitarian-overhead",
   "metadata": {},
   "outputs": [],
   "source": [
    "np.set_printoptions(linewidth=180)\n",
    "m=40\n",
    "tol=1e-4"
   ]
  },
  {
   "cell_type": "code",
   "execution_count": 3,
   "id": "fancy-inventory",
   "metadata": {},
   "outputs": [],
   "source": [
    "y0=u\n",
    "amat=[1]\n",
    "cmat=[[1/2]]\n",
    "tinit = 4.73e-5\n",
    "\n",
    "tend = 0.05\n",
    "tnow = 0\n",
    "dt = min(tinit,tend-tnow)\n",
    "nexps=1\n",
    "while (tnow<tend):\n",
    "    mv, dmv = Hamiltonian.setupHamiltonian(tnow+0.5*dt)\n",
    "    y1, errest, tlist, mlist = mkprop.expimv_pKry(mv,y0,t=dt,m=m,ktype=2,reo=1)\n",
    "    errst=0\n",
    "    if errest<dt*tol:\n",
    "        y0=y1\n",
    "        tnow += dt\n",
    "    dt = min(tinit,tend-tnow)"
   ]
  },
  {
   "cell_type": "code",
   "execution_count": 4,
   "id": "prompt-candidate",
   "metadata": {},
   "outputs": [
    {
     "data": {
      "text/plain": [
       "[<matplotlib.lines.Line2D at 0x7efd4b1b5bd0>,\n",
       " <matplotlib.lines.Line2D at 0x7efd4b1b5c30>]"
      ]
     },
     "execution_count": 4,
     "metadata": {},
     "output_type": "execute_result"
    },
    {
     "data": {
      "image/png": "[encoded data removed]",
      "text/plain": [
       "<Figure size 640x480 with 1 Axes>"
      ]
     },
     "metadata": {},
     "output_type": "display_data"
    }
   ],
   "source": [
    "plt.plot(x,y1.real,x,u.real)"
   ]
  },
  {
   "cell_type": "code",
   "execution_count": null,
   "id": "unknown-resolution",
   "metadata": {},
   "outputs": [],
   "source": []
  },
  {
   "cell_type": "code",
   "execution_count": null,
   "id": "worst-moisture",
   "metadata": {},
   "outputs": [],
   "source": []
  },
  {
   "cell_type": "code",
   "execution_count": null,
   "id": "hindu-argument",
   "metadata": {},
   "outputs": [],
   "source": []
  },
  {
   "cell_type": "code",
   "execution_count": null,
   "id": "basic-august",
   "metadata": {},
   "outputs": [],
   "source": []
  },
  {
   "cell_type": "code",
   "execution_count": null,
   "id": "difficult-clearance",
   "metadata": {},
   "outputs": [],
   "source": []
  },
  {
   "cell_type": "code",
   "execution_count": 6,
   "id": "subject-clinic",
   "metadata": {
    "scrolled": true
   },
   "outputs": [
    {
     "name": "stdout",
     "output_type": "stream",
     "text": [
      "try dt=1.000e-04, errest=7.07e-09, newdt=2.187e-02 - used\n",
      "try dt=2.187e-02, errest=1.74e-04, failed\n",
      "try dt=1.154e-03, errest=3.82e-08, newdt=6.092e-03 - used\n",
      "try dt=6.092e-03, errest=4.91e-06, failed\n",
      "try dt=1.916e-03, errest=2.41e-07, newdt=3.570e-03 - used\n",
      "try dt=3.570e-03, errest=1.77e-06, failed\n",
      "try dt=1.875e-03, errest=3.96e-07, newdt=2.702e-03 - used\n",
      "try dt=2.702e-03, errest=1.25e-06, failed\n",
      "try dt=1.689e-03, errest=4.47e-07, newdt=2.287e-03 - used\n",
      "try dt=2.287e-03, errest=1.08e-06, failed\n",
      "try dt=1.538e-03, errest=4.66e-07, newdt=2.040e-03 - used\n",
      "try dt=2.040e-03, errest=1.00e-06, failed\n",
      "try dt=1.424e-03, errest=4.73e-07, newdt=1.871e-03 - used\n",
      "try dt=1.871e-03, errest=9.61e-07, newdt=1.718e-03 - used\n",
      "try dt=1.718e-03, errest=9.41e-07, newdt=1.594e-03 - used\n",
      "try dt=1.594e-03, errest=9.14e-07, newdt=1.501e-03 - used\n",
      "try dt=1.501e-03, errest=8.97e-07, newdt=1.427e-03 - used\n",
      "try dt=1.427e-03, errest=8.84e-07, newdt=1.367e-03 - used\n",
      "try dt=1.367e-03, errest=8.75e-07, newdt=1.316e-03 - used\n",
      "try dt=1.316e-03, errest=8.68e-07, newdt=1.272e-03 - used\n",
      "try dt=1.272e-03, errest=8.62e-07, newdt=1.233e-03 - used\n",
      "try dt=1.233e-03, errest=8.58e-07, newdt=1.199e-03 - used\n",
      "try dt=1.199e-03, errest=8.54e-07, newdt=1.169e-03 - used\n",
      "try dt=1.169e-03, errest=8.50e-07, newdt=1.141e-03 - used\n",
      "try dt=1.141e-03, errest=8.47e-07, newdt=1.116e-03 - used\n",
      "try dt=1.116e-03, errest=8.45e-07, newdt=1.094e-03 - used\n",
      "try dt=1.094e-03, errest=8.42e-07, newdt=1.073e-03 - used\n",
      "try dt=1.073e-03, errest=8.40e-07, newdt=1.053e-03 - used\n",
      "try dt=1.053e-03, errest=8.40e-07, newdt=1.035e-03 - used\n",
      "try dt=1.035e-03, errest=8.37e-07, newdt=1.019e-03 - used\n",
      "try dt=1.019e-03, errest=8.36e-07, newdt=1.003e-03 - used\n",
      "try dt=1.003e-03, errest=8.35e-07, newdt=9.885e-04 - used\n",
      "try dt=9.885e-04, errest=8.34e-07, newdt=9.747e-04 - used\n",
      "try dt=9.747e-04, errest=8.33e-07, newdt=9.618e-04 - used\n",
      "try dt=9.618e-04, errest=8.33e-07, newdt=9.495e-04 - used\n",
      "try dt=9.495e-04, errest=8.31e-07, newdt=9.380e-04 - used\n",
      "try dt=9.380e-04, errest=8.31e-07, newdt=9.270e-04 - used\n",
      "try dt=9.270e-04, errest=8.30e-07, newdt=9.165e-04 - used\n",
      "try dt=9.165e-04, errest=8.29e-07, newdt=9.066e-04 - used\n",
      "try dt=9.066e-04, errest=8.29e-07, newdt=8.971e-04 - used\n",
      "try dt=8.971e-04, errest=8.28e-07, newdt=8.881e-04 - used\n",
      "try dt=8.881e-04, errest=8.28e-07, newdt=8.795e-04 - used\n",
      "try dt=8.795e-04, errest=8.25e-07, newdt=8.712e-04 - used\n",
      "try dt=8.712e-04, errest=8.25e-07, newdt=8.633e-04 - used\n",
      "try dt=8.633e-04, errest=8.24e-07, newdt=8.557e-04 - used\n",
      "try dt=8.557e-04, errest=8.24e-07, newdt=8.484e-04 - used\n",
      "try dt=8.484e-04, errest=8.25e-07, newdt=8.415e-04 - used\n",
      "try dt=8.415e-04, errest=8.23e-07, newdt=8.347e-04 - used\n",
      "try dt=8.347e-04, errest=8.23e-07, newdt=8.283e-04 - used\n",
      "try dt=7.601e-04, errest=6.94e-07, newdt=8.224e-04 - used\n"
     ]
    }
   ],
   "source": [
    "tol=1e-6\n",
    "y0=u\n",
    "amat=[1]\n",
    "cmat=[[1/2]]\n",
    "tinit = 0.0001\n",
    "\n",
    "p=2\n",
    "tend = 0.05\n",
    "tnow = 0\n",
    "dt = min(tinit,tend-tnow)\n",
    "nexps=1\n",
    "sig = 1j\n",
    "tlist=[]\n",
    "dtlist=[]\n",
    "errmlist=[]\n",
    "spstep=0.9\n",
    "spstepfail=0.7\n",
    "errpartm=0.99\n",
    "tolkry=(1-errpartm)*tol\n",
    "while (tnow<tend):\n",
    "    mv, dmv = Hamiltonian.setupHamiltonian(tnow+0.5*dt)\n",
    "    y1, errestkry, tkrylist, mlist = mkprop.expimv_pKry(mv,y0,tol=tolkry,t=dt,m=m,ktype=2,reo=0)\n",
    "\n",
    "    # computer error estimate\n",
    "    dHpsi = dmv(y1)\n",
    "    HdHpsi = mv(dHpsi)\n",
    "    Hpsi = mv(y1)\n",
    "    dHHpsi = dmv(Hpsi)\n",
    "    defp1 = Hpsi + 0.5*dt*dHpsi + 0.5*sig*dt**2/2*(HdHpsi-dHHpsi)\n",
    "    \n",
    "    mv2, _ = Hamiltonian.setupHamiltonian(tnow+dt)\n",
    "    def1 = defp1-mv2(y1)\n",
    "    errestmag = dt/(p+1)*nrm(def1)\n",
    "\n",
    "    # test error estimate\n",
    "    if errestkry+errestmag<dt*tol:\n",
    "        y0 = y1\n",
    "        tnow += dt\n",
    "        dtlist.append(dt)\n",
    "        tlist.append(tnow)\n",
    "        errmlist.append(errestmag)\n",
    "        dtnew = spstep * (errpartm * dt * tol/errestmag)**(1.0/p) * dt\n",
    "        print(\"try dt=%.3e, errest=%.2e, newdt=%.3e - used\" % (dt,(errestkry+errestmag)/dt,dtnew))\n",
    "        dt = min(dtnew,tend-tnow)\n",
    "    else:\n",
    "        print(\"try dt=%.3e, errest=%.2e, failed\" % (dt,(errestkry+errestmag)/dt))\n",
    "        dtnew = spstepfail * (errpartm * dt * tol/errestmag)**(1.0/p) * dt\n",
    "        dt = min(dtnew,tend-tnow)\n",
    "\n"
   ]
  },
  {
   "cell_type": "code",
   "execution_count": 7,
   "id": "golden-smoke",
   "metadata": {},
   "outputs": [
    {
     "ename": "NameError",
     "evalue": "name 'tlistx' is not defined",
     "output_type": "error",
     "traceback": [
      "\u001b[0;31m---------------------------------------------------------------------------\u001b[0m",
      "\u001b[0;31mNameError\u001b[0m                                 Traceback (most recent call last)",
      "Cell \u001b[0;32mIn[7], line 1\u001b[0m\n\u001b[0;32m----> 1\u001b[0m plt\u001b[38;5;241m.\u001b[39msemilogy(tlist,dtlist,\u001b[43mtlistx\u001b[49m,dtlistx)\n\u001b[1;32m      2\u001b[0m \u001b[38;5;66;03m#plt.semilogy(tlist,dtlist)\u001b[39;00m\n",
      "\u001b[0;31mNameError\u001b[0m: name 'tlistx' is not defined"
     ]
    }
   ],
   "source": [
    "plt.semilogy(tlist,dtlist,tlistx,dtlistx)\n",
    "#plt.semilogy(tlist,dtlist)"
   ]
  },
  {
   "cell_type": "code",
   "execution_count": 8,
   "id": "alternative-mirror",
   "metadata": {},
   "outputs": [
    {
     "ename": "NameError",
     "evalue": "name 'yx' is not defined",
     "output_type": "error",
     "traceback": [
      "\u001b[0;31m---------------------------------------------------------------------------\u001b[0m",
      "\u001b[0;31mNameError\u001b[0m                                 Traceback (most recent call last)",
      "Cell \u001b[0;32mIn[8], line 1\u001b[0m\n\u001b[0;32m----> 1\u001b[0m \u001b[38;5;28mprint\u001b[39m(nrm(y1\u001b[38;5;241m-\u001b[39m\u001b[43myx\u001b[49m)\u001b[38;5;241m/\u001b[39mtend)\n",
      "\u001b[0;31mNameError\u001b[0m: name 'yx' is not defined"
     ]
    }
   ],
   "source": [
    "print(nrm(y1-yx)/tend)"
   ]
  },
  {
   "cell_type": "code",
   "execution_count": null,
   "id": "charitable-diamond",
   "metadata": {},
   "outputs": [],
   "source": []
  },
  {
   "cell_type": "code",
   "execution_count": 9,
   "id": "associate-settle",
   "metadata": {},
   "outputs": [],
   "source": [
    "yx=y1\n",
    "tlistx=tlist\n",
    "dtlistx=dtlist"
   ]
  },
  {
   "cell_type": "code",
   "execution_count": 10,
   "id": "democratic-printing",
   "metadata": {},
   "outputs": [
    {
     "name": "stdout",
     "output_type": "stream",
     "text": [
      "try dt=1.000e-04, errest=3.38e-07, newdt=5.175e-03 - used\n",
      "try dt=5.175e-03, errest=2.78e-06, newdt=3.463e-02 - used\n",
      "try dt=3.463e-02, errest=6.69e-04, failed\n",
      "try dt=9.336e-03, errest=2.25e-05, newdt=1.802e-02 - used\n",
      "try dt=1.802e-02, errest=1.90e-04, failed\n",
      "try dt=9.126e-03, errest=4.05e-05, newdt=1.300e-02 - used\n",
      "try dt=1.300e-02, errest=1.26e-04, failed\n",
      "try dt=8.088e-03, errest=4.57e-05, newdt=1.084e-02 - used\n",
      "try dt=1.084e-02, errest=1.07e-04, failed\n",
      "try dt=7.317e-03, errest=4.73e-05, newdt=9.626e-03 - used\n",
      "try dt=9.626e-03, errest=9.91e-05, newdt=8.703e-03 - used\n",
      "try dt=1.231e-03, errest=2.76e-06, newdt=8.252e-03 - used\n"
     ]
    }
   ],
   "source": [
    "tol=1e-4\n",
    "y0=u\n",
    "amat=[1]\n",
    "cmat=[[1/2]]\n",
    "tinit = 0.0001\n",
    "\n",
    "p=2\n",
    "tend = 0.05\n",
    "tnow = 0\n",
    "dt = min(tinit,tend-tnow)\n",
    "nexps=1\n",
    "sig = 1j\n",
    "tlist=[]\n",
    "dtlist=[]\n",
    "errmlist=[]\n",
    "spstep=0.9\n",
    "spstepfail=0.7\n",
    "errpartm=0.99\n",
    "tolkry=(1-errpartm)*tol\n",
    "mv0, _ = Hamiltonian.setupHamiltonian(tnow)\n",
    "y0e = mv0(y0)\n",
    "while (tnow<tend):\n",
    "    mv, dmv = Hamiltonian.setupHamiltonian(tnow+0.5*dt)\n",
    "    y1, errestkry, tkrylist, mlist = mkprop.expimv_pKry(mv,y0,tol=tolkry,t=dt,m=m,ktype=2,reo=0)\n",
    "    y1e, errestkry, tkrylist, mlist = mkprop.expimv_pKry(mv,y0e,tol=tolkry,t=dt,m=m,ktype=2,reo=0)\n",
    "\n",
    "    # computer error estimate\n",
    "    defp1 = mv(y1)\n",
    "    mv2, _ = Hamiltonian.setupHamiltonian(tnow+dt)\n",
    "    y1enext = mv2(y1)\n",
    "    def1 = defp1-0.5*y1enext-0.5*y1e\n",
    "    errestmag = dt/(p+1)*nrm(def1)\n",
    "\n",
    "    # test error estimate\n",
    "    if errestkry+errestmag<dt*tol:\n",
    "        y0 = y1\n",
    "        y0e = y1enext\n",
    "        tnow += dt\n",
    "        dtlist.append(dt)\n",
    "        tlist.append(tnow)\n",
    "        errmlist.append(errestmag)\n",
    "        dtnew = spstep * (errpartm * dt * tol/errestmag)**(1.0/p) * dt\n",
    "        print(\"try dt=%.3e, errest=%.2e, newdt=%.3e - used\" % (dt,(errestkry+errestmag)/dt,dtnew))\n",
    "        dt = min(dtnew,tend-tnow)\n",
    "    else:\n",
    "        print(\"try dt=%.3e, errest=%.2e, failed\" % (dt,(errestkry+errestmag)/dt))\n",
    "        dtnew = spstepfail * (errpartm * dt * tol/errestmag)**(1.0/p) * dt\n",
    "        dt = min(dtnew,tend-tnow)\n",
    "\n"
   ]
  },
  {
   "cell_type": "code",
   "execution_count": null,
   "id": "gothic-blanket",
   "metadata": {},
   "outputs": [],
   "source": []
  }
 ],
 "metadata": {
  "kernelspec": {
   "display_name": "Python 3 (ipykernel)",
   "language": "python",
   "name": "python3"
  },
  "language_info": {
   "codemirror_mode": {
    "name": "ipython",
    "version": 3
   },
   "file_extension": ".py",
   "mimetype": "text/x-python",
   "name": "python",
   "nbconvert_exporter": "python",
   "pygments_lexer": "ipython3",
   "version": "3.10.12"
  }
 },
 "nbformat": 4,
 "nbformat_minor": 5
}
