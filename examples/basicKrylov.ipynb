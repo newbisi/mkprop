{
 "cells": [
  {
   "cell_type": "code",
   "execution_count": 1,
   "id": "1660a547-651d-4680-ace7-d40d19a7ac15",
   "metadata": {},
   "outputs": [
    {
     "name": "stdout",
     "output_type": "stream",
     "text": [
      "approximation error = 5.06e-08, tolerance = 1.00e-06\n"
     ]
    }
   ],
   "source": [
    "import scipy.sparse\n",
    "import scipy.linalg\n",
    "import numpy as np\n",
    "import mkprop\n",
    "nrm = lambda x : np.linalg.norm(x,2)\n",
    "\n",
    "n = 1000\n",
    "e = np.ones(n)\n",
    "e1 = np.ones(n-1)\n",
    "# M is scaled finite difference discretization of 1d Laplace operator\n",
    "M = scipy.sparse.diags([e1,-2*e,e1], [-1,0,1])\n",
    "u=np.random.rand(n)\n",
    "dt = 50\n",
    "tol = 1e-6\n",
    "yref = scipy.sparse.linalg.expm_multiply(1j*dt*M,u)\n",
    "y,_,_,mused = mkprop.expimv_pKry(M,u,t=dt,tol=tol)\n",
    "print(\"approximation error = %.2e, tolerance = %.2e\" % (nrm(yref-y)/dt, tol))"
   ]
  }
 ],
 "metadata": {
  "kernelspec": {
   "display_name": "Python 3 (ipykernel)",
   "language": "python",
   "name": "python3"
  },
  "language_info": {
   "codemirror_mode": {
    "name": "ipython",
    "version": 3
   },
   "file_extension": ".py",
   "mimetype": "text/x-python",
   "name": "python",
   "nbconvert_exporter": "python",
   "pygments_lexer": "ipython3",
   "version": "3.10.12"
  }
 },
 "nbformat": 4,
 "nbformat_minor": 5
}
