{
 "cells": [
  {
   "cell_type": "code",
   "execution_count": 1,
   "id": "cubic-clarity",
   "metadata": {},
   "outputs": [],
   "source": [
    "import numpy as np\n",
    "import mkprop\n",
    "from exlaser import doublewellproblem as prob\n",
    "import matplotlib.pyplot as plt\n",
    "\n",
    "# setup problem from exlaser.py\n",
    "n=1200\n",
    "Hamiltonian = prob(n)\n",
    "x, inr = Hamiltonian.getprop()\n",
    "nrm = lambda u : ((inr(u,u)).real)**0.5\n",
    "u = Hamiltonian.getinitialstate()\n",
    "\n",
    "# define initial and final time\n",
    "tnow = 0\n",
    "tend = 0.1\n",
    "tau = tend-tnow\n",
    "\n",
    "# some options for Krylov method, use Lanczos\n",
    "ktype = 2\n",
    "mmax = 60"
   ]
  },
  {
   "cell_type": "code",
   "execution_count": 2,
   "id": "32321e50-bcf0-4488-becb-6dca71078285",
   "metadata": {},
   "outputs": [],
   "source": [
    "# compute reference solution with adaptive fourth order CFM integrator\n",
    "tolref=1e-6\n",
    "dtinitref = 5e-2\n",
    "yref,_,_,_,_,_,_ = mkprop.adaptiveCFMp4j2(u,tnow,tend,dtinitref,Hamiltonian,tol=tolref,m=mmax,ktype=ktype,inr=inr)"
   ]
  },
  {
   "cell_type": "code",
   "execution_count": 3,
   "id": "a98c313a-5cf5-454b-a186-bf72043a3904",
   "metadata": {},
   "outputs": [],
   "source": [
    "# test adaptive midpoint rule\n",
    "tol=1e-4\n",
    "dtinit = 1e-3\n",
    "y,_,_,_,_,_,_ = mkprop.adaptivemidpoint(u,tnow,tend,dtinit,Hamiltonian,tol=tol,m=mmax,ktype=ktype,inr=inr)"
   ]
  },
  {
   "cell_type": "code",
   "execution_count": 4,
   "id": "3d8ae0e4-0810-4e9e-849e-8af436169631",
   "metadata": {},
   "outputs": [
    {
     "name": "stdout",
     "output_type": "stream",
     "text": [
      "approximation error = 6.40e-05, tolerance = 1.00e-04\n"
     ]
    }
   ],
   "source": [
    "print(\"approximation error = %.2e, tolerance = %.2e\" % (nrm(yref-y)/tau, tol))"
   ]
  }
 ],
 "metadata": {
  "kernelspec": {
   "display_name": "Python 3 (ipykernel)",
   "language": "python",
   "name": "python3"
  },
  "language_info": {
   "codemirror_mode": {
    "name": "ipython",
    "version": 3
   },
   "file_extension": ".py",
   "mimetype": "text/x-python",
   "name": "python",
   "nbconvert_exporter": "python",
   "pygments_lexer": "ipython3",
   "version": "3.10.12"
  }
 },
 "nbformat": 4,
 "nbformat_minor": 5
}
