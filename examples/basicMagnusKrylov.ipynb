{
 "cells": [
  {
   "cell_type": "code",
   "execution_count": 1,
   "id": "cubic-clarity",
   "metadata": {},
   "outputs": [],
   "source": [
    "import numpy as np\n",
    "import mkprop\n",
    "from exlaser import doublewellproblem as prob\n",
    "import matplotlib.pyplot as plt\n",
    "\n",
    "# setup problem from exlaser.py\n",
    "n=1200\n",
    "Hamiltonian = prob(n)\n",
    "inr, nrm = Hamiltonian.getnrm()\n",
    "u = Hamiltonian.getinitialstate()\n",
    "\n",
    "# define initial and final time\n",
    "tnow = 0\n",
    "tend = 0.1\n",
    "tau = tend-tnow\n"
   ]
  },
  {
   "cell_type": "code",
   "execution_count": 2,
   "id": "a98c313a-5cf5-454b-a186-bf72043a3904",
   "metadata": {},
   "outputs": [],
   "source": [
    "# test adaptive midpoint rule\n",
    "tol=1e-4\n",
    "dtinit = 1e-3\n",
    "y,info = mkprop.adaptivemidpoint(u,tnow,tend,dtinit,Hamiltonian,tol=tol)"
   ]
  },
  {
   "cell_type": "code",
   "execution_count": 3,
   "id": "32321e50-bcf0-4488-becb-6dca71078285",
   "metadata": {},
   "outputs": [],
   "source": [
    "# compute reference solution with adaptive fourth order CFM integrator\n",
    "tolref=1e-6\n",
    "dtinitref = 5e-1\n",
    "yref,info = mkprop.adaptiveCFMp4j2(u,tnow,tend,dtinitref,Hamiltonian,tol=tolref)"
   ]
  },
  {
   "cell_type": "code",
   "execution_count": 4,
   "id": "3d8ae0e4-0810-4e9e-849e-8af436169631",
   "metadata": {},
   "outputs": [
    {
     "name": "stdout",
     "output_type": "stream",
     "text": [
      "approximation error = 6.40e-05, tolerance = 1.00e-04\n"
     ]
    }
   ],
   "source": [
    "print(\"approximation error = %.2e, tolerance = %.2e\" % (nrm(yref-y)/tau, tol))"
   ]
  },
  {
   "cell_type": "code",
   "execution_count": null,
   "id": "28a20eb8-4009-4988-863c-0fb224613301",
   "metadata": {},
   "outputs": [],
   "source": []
  },
  {
   "cell_type": "code",
   "execution_count": null,
   "id": "1e4a2848-fcc0-48fb-a644-37fde11d2ff7",
   "metadata": {},
   "outputs": [],
   "source": []
  }
 ],
 "metadata": {
  "kernelspec": {
   "display_name": "Python 3 (ipykernel)",
   "language": "python",
   "name": "python3"
  },
  "language_info": {
   "codemirror_mode": {
    "name": "ipython",
    "version": 3
   },
   "file_extension": ".py",
   "mimetype": "text/x-python",
   "name": "python",
   "nbconvert_exporter": "python",
   "pygments_lexer": "ipython3",
   "version": "3.9.13"
  }
 },
 "nbformat": 4,
 "nbformat_minor": 5
}
